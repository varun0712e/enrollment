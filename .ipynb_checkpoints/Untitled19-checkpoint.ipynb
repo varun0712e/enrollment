{
 "cells": [
  {
   "cell_type": "code",
   "execution_count": 229,
   "id": "61bc2e9e",
   "metadata": {},
   "outputs": [],
   "source": [
    "import pandas as pd\n",
    "import numpy as np \n",
    "import matplotlib as plt\n",
    "import seaborn as sns\n"
   ]
  },
  {
   "cell_type": "code",
   "execution_count": 230,
   "id": "b54fbb35",
   "metadata": {},
   "outputs": [],
   "source": [
    "df=pd.read_csv('Enrollment_Data.csv')"
   ]
  },
  {
   "cell_type": "code",
   "execution_count": 231,
   "id": "86d2cdfb",
   "metadata": {},
   "outputs": [
    {
     "data": {
      "text/plain": [
       "(5160, 30)"
      ]
     },
     "execution_count": 231,
     "metadata": {},
     "output_type": "execute_result"
    }
   ],
   "source": [
    "df.shape"
   ]
  },
  {
   "cell_type": "code",
   "execution_count": 232,
   "id": "c4f4fd2d",
   "metadata": {
    "scrolled": true
   },
   "outputs": [
    {
     "data": {
      "text/plain": [
       "avg_income             763\n",
       "CAMPUS_VISIT             0\n",
       "CAMPUS_VISIT_2           0\n",
       "CONTACT_CODE1            5\n",
       "Contact_Date             0\n",
       "Contact_Month            0\n",
       "Contact_Year             0\n",
       "distance               671\n",
       "Target_Enroll            0\n",
       "ETHNICITY              598\n",
       "hscrat                   0\n",
       "ID                       0\n",
       "init_span                0\n",
       "Instate                  0\n",
       "int1rat                  0\n",
       "int2rat                  0\n",
       "interest                 0\n",
       "IRSCHOOL               425\n",
       "LEVEL_YEAR               0\n",
       "mailq                    0\n",
       "premiere                 0\n",
       "REFERRAL_CNTCTS          0\n",
       "satscore              1887\n",
       "SELF_INIT_CNTCTS         0\n",
       "sex                    127\n",
       "SOLICITED_CNTCTS         0\n",
       "telecq                3055\n",
       "TERRITORY                0\n",
       "TOTAL_CONTACTS           0\n",
       "TRAVEL_INIT_CNTCTS       0\n",
       "dtype: int64"
      ]
     },
     "execution_count": 232,
     "metadata": {},
     "output_type": "execute_result"
    }
   ],
   "source": [
    "df.isnull().sum()"
   ]
  },
  {
   "cell_type": "code",
   "execution_count": 233,
   "id": "86c6b873",
   "metadata": {},
   "outputs": [
    {
     "ename": "SyntaxError",
     "evalue": "invalid syntax (1951995059.py, line 1)",
     "output_type": "error",
     "traceback": [
      "\u001b[1;36m  Input \u001b[1;32mIn [233]\u001b[1;36m\u001b[0m\n\u001b[1;33m    df[]\u001b[0m\n\u001b[1;37m       ^\u001b[0m\n\u001b[1;31mSyntaxError\u001b[0m\u001b[1;31m:\u001b[0m invalid syntax\n"
     ]
    }
   ],
   "source": [
    "df[]"
   ]
  },
  {
   "cell_type": "code",
   "execution_count": 234,
   "id": "653d877c",
   "metadata": {},
   "outputs": [
    {
     "data": {
      "text/plain": [
       "<bound method IndexOpsMixin.nunique of 0       EML\n",
       "1       SAT\n",
       "2       C01\n",
       "3       EML\n",
       "4       TFL\n",
       "       ... \n",
       "5155    CIP\n",
       "5156    CIP\n",
       "5157    CIP\n",
       "5158    LMI\n",
       "5159    CIP\n",
       "Name: CONTACT_CODE1, Length: 5160, dtype: object>"
      ]
     },
     "execution_count": 234,
     "metadata": {},
     "output_type": "execute_result"
    }
   ],
   "source": [
    "df[\"CONTACT_CODE1\"].nunique"
   ]
  },
  {
   "cell_type": "code",
   "execution_count": 235,
   "id": "5d369268",
   "metadata": {},
   "outputs": [
    {
     "name": "stderr",
     "output_type": "stream",
     "text": [
      "C:\\Users\\Varun\\AppData\\Local\\Programs\\Python\\Python310\\lib\\site-packages\\seaborn\\distributions.py:2619: FutureWarning: `distplot` is a deprecated function and will be removed in a future version. Please adapt your code to use either `displot` (a figure-level function with similar flexibility) or `histplot` (an axes-level function for histograms).\n",
      "  warnings.warn(msg, FutureWarning)\n"
     ]
    },
    {
     "data": {
      "text/plain": [
       "<AxesSubplot:xlabel='avg_income', ylabel='Density'>"
      ]
     },
     "execution_count": 235,
     "metadata": {},
     "output_type": "execute_result"
    },
    {
     "data": {
      "image/png": "[encoded data removed]",
      "text/plain": [
       "<Figure size 432x288 with 1 Axes>"
      ]
     },
     "metadata": {
      "needs_background": "light"
     },
     "output_type": "display_data"
    }
   ],
   "source": [
    "sns.distplot(df[\"avg_income\"])"
   ]
  },
  {
   "cell_type": "code",
   "execution_count": 236,
   "id": "f3421072",
   "metadata": {},
   "outputs": [
    {
     "name": "stderr",
     "output_type": "stream",
     "text": [
      "C:\\Users\\Varun\\AppData\\Local\\Programs\\Python\\Python310\\lib\\site-packages\\seaborn\\_decorators.py:36: FutureWarning: Pass the following variable as a keyword arg: x. From version 0.12, the only valid positional argument will be `data`, and passing other arguments without an explicit keyword will result in an error or misinterpretation.\n",
      "  warnings.warn(\n"
     ]
    },
    {
     "data": {
      "text/plain": [
       "<AxesSubplot:xlabel='avg_income'>"
      ]
     },
     "execution_count": 236,
     "metadata": {},
     "output_type": "execute_result"
    },
    {
     "data": {
      "image/png": "[encoded data removed]",
      "text/plain": [
       "<Figure size 432x288 with 1 Axes>"
      ]
     },
     "metadata": {
      "needs_background": "light"
     },
     "output_type": "display_data"
    }
   ],
   "source": [
    "sns.boxplot(df[\"avg_income\"])"
   ]
  },
  {
   "cell_type": "code",
   "execution_count": 237,
   "id": "29fa9a8c",
   "metadata": {},
   "outputs": [
    {
     "data": {
      "text/plain": [
       "0    4418\n",
       "1     709\n",
       "2      33\n",
       "Name: CAMPUS_VISIT, dtype: int64"
      ]
     },
     "execution_count": 237,
     "metadata": {},
     "output_type": "execute_result"
    }
   ],
   "source": [
    "df[\"CAMPUS_VISIT\"].value_counts()"
   ]
  },
  {
   "cell_type": "code",
   "execution_count": 238,
   "id": "3dc20e5c",
   "metadata": {},
   "outputs": [
    {
     "name": "stderr",
     "output_type": "stream",
     "text": [
      "C:\\Users\\Varun\\AppData\\Local\\Programs\\Python\\Python310\\lib\\site-packages\\seaborn\\distributions.py:2619: FutureWarning: `distplot` is a deprecated function and will be removed in a future version. Please adapt your code to use either `displot` (a figure-level function with similar flexibility) or `histplot` (an axes-level function for histograms).\n",
      "  warnings.warn(msg, FutureWarning)\n"
     ]
    },
    {
     "data": {
      "text/plain": [
       "<AxesSubplot:xlabel='distance', ylabel='Density'>"
      ]
     },
     "execution_count": 238,
     "metadata": {},
     "output_type": "execute_result"
    },
    {
     "data": {
      "image/png": "[encoded data removed]",
      "text/plain": [
       "<Figure size 432x288 with 1 Axes>"
      ]
     },
     "metadata": {
      "needs_background": "light"
     },
     "output_type": "display_data"
    }
   ],
   "source": [
    "sns.distplot(df[\"distance\"].dropna())"
   ]
  },
  {
   "cell_type": "code",
   "execution_count": 239,
   "id": "7f26abb1",
   "metadata": {},
   "outputs": [],
   "source": [
    "pd.set_option('display.max_columns',None)"
   ]
  },
  {
   "cell_type": "code",
   "execution_count": 240,
   "id": "515ed8d4",
   "metadata": {},
   "outputs": [
    {
     "data": {
      "text/html": [
       "<div>\n",
       "<style scoped>\n",
       "    .dataframe tbody tr th:only-of-type {\n",
       "        vertical-align: middle;\n",
       "    }\n",
       "\n",
       "    .dataframe tbody tr th {\n",
       "        vertical-align: top;\n",
       "    }\n",
       "\n",
       "    .dataframe thead th {\n",
       "        text-align: right;\n",
       "    }\n",
       "</style>\n",
       "<table border=\"1\" class=\"dataframe\">\n",
       "  <thead>\n",
       "    <tr style=\"text-align: right;\">\n",
       "      <th></th>\n",
       "      <th>avg_income</th>\n",
       "      <th>CAMPUS_VISIT</th>\n",
       "      <th>CAMPUS_VISIT_2</th>\n",
       "      <th>CONTACT_CODE1</th>\n",
       "      <th>Contact_Date</th>\n",
       "      <th>Contact_Month</th>\n",
       "      <th>Contact_Year</th>\n",
       "      <th>distance</th>\n",
       "      <th>Target_Enroll</th>\n",
       "      <th>ETHNICITY</th>\n",
       "      <th>hscrat</th>\n",
       "      <th>ID</th>\n",
       "      <th>init_span</th>\n",
       "      <th>Instate</th>\n",
       "      <th>int1rat</th>\n",
       "      <th>int2rat</th>\n",
       "      <th>interest</th>\n",
       "      <th>IRSCHOOL</th>\n",
       "      <th>LEVEL_YEAR</th>\n",
       "      <th>mailq</th>\n",
       "      <th>premiere</th>\n",
       "      <th>REFERRAL_CNTCTS</th>\n",
       "      <th>satscore</th>\n",
       "      <th>SELF_INIT_CNTCTS</th>\n",
       "      <th>sex</th>\n",
       "      <th>SOLICITED_CNTCTS</th>\n",
       "      <th>telecq</th>\n",
       "      <th>TERRITORY</th>\n",
       "      <th>TOTAL_CONTACTS</th>\n",
       "      <th>TRAVEL_INIT_CNTCTS</th>\n",
       "    </tr>\n",
       "  </thead>\n",
       "  <tbody>\n",
       "    <tr>\n",
       "      <th>0</th>\n",
       "      <td>NaN</td>\n",
       "      <td>0</td>\n",
       "      <td>0</td>\n",
       "      <td>EML</td>\n",
       "      <td>1</td>\n",
       "      <td>Sep</td>\n",
       "      <td>2012</td>\n",
       "      <td>NaN</td>\n",
       "      <td>0</td>\n",
       "      <td>NaN</td>\n",
       "      <td>0.037652</td>\n",
       "      <td>32</td>\n",
       "      <td>48</td>\n",
       "      <td>N</td>\n",
       "      <td>0.017183</td>\n",
       "      <td>0.02038</td>\n",
       "      <td>0</td>\n",
       "      <td>NaN</td>\n",
       "      <td>FR04</td>\n",
       "      <td>5</td>\n",
       "      <td>0</td>\n",
       "      <td>0</td>\n",
       "      <td>NaN</td>\n",
       "      <td>1</td>\n",
       "      <td>1.0</td>\n",
       "      <td>0</td>\n",
       "      <td>NaN</td>\n",
       "      <td>N</td>\n",
       "      <td>1</td>\n",
       "      <td>0</td>\n",
       "    </tr>\n",
       "    <tr>\n",
       "      <th>1</th>\n",
       "      <td>NaN</td>\n",
       "      <td>0</td>\n",
       "      <td>0</td>\n",
       "      <td>SAT</td>\n",
       "      <td>12</td>\n",
       "      <td>Feb</td>\n",
       "      <td>2014</td>\n",
       "      <td>NaN</td>\n",
       "      <td>0</td>\n",
       "      <td>N</td>\n",
       "      <td>0.037652</td>\n",
       "      <td>51</td>\n",
       "      <td>31</td>\n",
       "      <td>N</td>\n",
       "      <td>0.017183</td>\n",
       "      <td>0.02038</td>\n",
       "      <td>0</td>\n",
       "      <td>NaN</td>\n",
       "      <td>FR04</td>\n",
       "      <td>5</td>\n",
       "      <td>0</td>\n",
       "      <td>0</td>\n",
       "      <td>NaN</td>\n",
       "      <td>1</td>\n",
       "      <td>1.0</td>\n",
       "      <td>0</td>\n",
       "      <td>NaN</td>\n",
       "      <td>N</td>\n",
       "      <td>1</td>\n",
       "      <td>0</td>\n",
       "    </tr>\n",
       "    <tr>\n",
       "      <th>2</th>\n",
       "      <td>NaN</td>\n",
       "      <td>0</td>\n",
       "      <td>0</td>\n",
       "      <td>C01</td>\n",
       "      <td>16</td>\n",
       "      <td>Jan</td>\n",
       "      <td>2015</td>\n",
       "      <td>NaN</td>\n",
       "      <td>0</td>\n",
       "      <td>C</td>\n",
       "      <td>0.037652</td>\n",
       "      <td>120</td>\n",
       "      <td>20</td>\n",
       "      <td>N</td>\n",
       "      <td>0.017183</td>\n",
       "      <td>0.02038</td>\n",
       "      <td>0</td>\n",
       "      <td>NaN</td>\n",
       "      <td>FR04</td>\n",
       "      <td>5</td>\n",
       "      <td>0</td>\n",
       "      <td>0</td>\n",
       "      <td>NaN</td>\n",
       "      <td>0</td>\n",
       "      <td>1.0</td>\n",
       "      <td>1</td>\n",
       "      <td>NaN</td>\n",
       "      <td>N</td>\n",
       "      <td>1</td>\n",
       "      <td>0</td>\n",
       "    </tr>\n",
       "    <tr>\n",
       "      <th>3</th>\n",
       "      <td>NaN</td>\n",
       "      <td>0</td>\n",
       "      <td>0</td>\n",
       "      <td>EML</td>\n",
       "      <td>11</td>\n",
       "      <td>Mar</td>\n",
       "      <td>2015</td>\n",
       "      <td>NaN</td>\n",
       "      <td>0</td>\n",
       "      <td>NaN</td>\n",
       "      <td>0.037652</td>\n",
       "      <td>151</td>\n",
       "      <td>18</td>\n",
       "      <td>N</td>\n",
       "      <td>0.017183</td>\n",
       "      <td>0.02038</td>\n",
       "      <td>0</td>\n",
       "      <td>NaN</td>\n",
       "      <td>FR04</td>\n",
       "      <td>5</td>\n",
       "      <td>0</td>\n",
       "      <td>0</td>\n",
       "      <td>NaN</td>\n",
       "      <td>1</td>\n",
       "      <td>0.0</td>\n",
       "      <td>0</td>\n",
       "      <td>NaN</td>\n",
       "      <td>N</td>\n",
       "      <td>1</td>\n",
       "      <td>0</td>\n",
       "    </tr>\n",
       "    <tr>\n",
       "      <th>4</th>\n",
       "      <td>NaN</td>\n",
       "      <td>0</td>\n",
       "      <td>0</td>\n",
       "      <td>TFL</td>\n",
       "      <td>28</td>\n",
       "      <td>Mar</td>\n",
       "      <td>2015</td>\n",
       "      <td>NaN</td>\n",
       "      <td>0</td>\n",
       "      <td>B</td>\n",
       "      <td>0.037652</td>\n",
       "      <td>160</td>\n",
       "      <td>18</td>\n",
       "      <td>N</td>\n",
       "      <td>0.017183</td>\n",
       "      <td>0.02038</td>\n",
       "      <td>0</td>\n",
       "      <td>NaN</td>\n",
       "      <td>FR04</td>\n",
       "      <td>5</td>\n",
       "      <td>0</td>\n",
       "      <td>0</td>\n",
       "      <td>1090.0</td>\n",
       "      <td>2</td>\n",
       "      <td>1.0</td>\n",
       "      <td>0</td>\n",
       "      <td>NaN</td>\n",
       "      <td>N</td>\n",
       "      <td>2</td>\n",
       "      <td>0</td>\n",
       "    </tr>\n",
       "    <tr>\n",
       "      <th>5</th>\n",
       "      <td>NaN</td>\n",
       "      <td>0</td>\n",
       "      <td>0</td>\n",
       "      <td>PCR</td>\n",
       "      <td>28</td>\n",
       "      <td>Mar</td>\n",
       "      <td>2015</td>\n",
       "      <td>NaN</td>\n",
       "      <td>0</td>\n",
       "      <td>N</td>\n",
       "      <td>0.037652</td>\n",
       "      <td>166</td>\n",
       "      <td>18</td>\n",
       "      <td>N</td>\n",
       "      <td>0.017183</td>\n",
       "      <td>0.02038</td>\n",
       "      <td>0</td>\n",
       "      <td>NaN</td>\n",
       "      <td>FR04</td>\n",
       "      <td>5</td>\n",
       "      <td>0</td>\n",
       "      <td>0</td>\n",
       "      <td>NaN</td>\n",
       "      <td>1</td>\n",
       "      <td>0.0</td>\n",
       "      <td>1</td>\n",
       "      <td>NaN</td>\n",
       "      <td>N</td>\n",
       "      <td>2</td>\n",
       "      <td>0</td>\n",
       "    </tr>\n",
       "    <tr>\n",
       "      <th>6</th>\n",
       "      <td>NaN</td>\n",
       "      <td>0</td>\n",
       "      <td>0</td>\n",
       "      <td>EML</td>\n",
       "      <td>6</td>\n",
       "      <td>May</td>\n",
       "      <td>2015</td>\n",
       "      <td>NaN</td>\n",
       "      <td>0</td>\n",
       "      <td>NaN</td>\n",
       "      <td>0.037652</td>\n",
       "      <td>212</td>\n",
       "      <td>16</td>\n",
       "      <td>N</td>\n",
       "      <td>0.017183</td>\n",
       "      <td>0.02038</td>\n",
       "      <td>0</td>\n",
       "      <td>NaN</td>\n",
       "      <td>FR04</td>\n",
       "      <td>5</td>\n",
       "      <td>0</td>\n",
       "      <td>0</td>\n",
       "      <td>NaN</td>\n",
       "      <td>1</td>\n",
       "      <td>0.0</td>\n",
       "      <td>0</td>\n",
       "      <td>NaN</td>\n",
       "      <td>N</td>\n",
       "      <td>1</td>\n",
       "      <td>0</td>\n",
       "    </tr>\n",
       "    <tr>\n",
       "      <th>7</th>\n",
       "      <td>NaN</td>\n",
       "      <td>0</td>\n",
       "      <td>0</td>\n",
       "      <td>SAT</td>\n",
       "      <td>23</td>\n",
       "      <td>Jun</td>\n",
       "      <td>2015</td>\n",
       "      <td>NaN</td>\n",
       "      <td>0</td>\n",
       "      <td>N</td>\n",
       "      <td>0.037652</td>\n",
       "      <td>246</td>\n",
       "      <td>15</td>\n",
       "      <td>N</td>\n",
       "      <td>0.017183</td>\n",
       "      <td>0.02038</td>\n",
       "      <td>0</td>\n",
       "      <td>NaN</td>\n",
       "      <td>FR04</td>\n",
       "      <td>5</td>\n",
       "      <td>0</td>\n",
       "      <td>0</td>\n",
       "      <td>1210.0</td>\n",
       "      <td>2</td>\n",
       "      <td>0.0</td>\n",
       "      <td>0</td>\n",
       "      <td>NaN</td>\n",
       "      <td>N</td>\n",
       "      <td>2</td>\n",
       "      <td>0</td>\n",
       "    </tr>\n",
       "    <tr>\n",
       "      <th>8</th>\n",
       "      <td>NaN</td>\n",
       "      <td>0</td>\n",
       "      <td>0</td>\n",
       "      <td>EML</td>\n",
       "      <td>14</td>\n",
       "      <td>Jul</td>\n",
       "      <td>2015</td>\n",
       "      <td>NaN</td>\n",
       "      <td>0</td>\n",
       "      <td>NaN</td>\n",
       "      <td>0.037652</td>\n",
       "      <td>288</td>\n",
       "      <td>14</td>\n",
       "      <td>N</td>\n",
       "      <td>0.017183</td>\n",
       "      <td>0.02038</td>\n",
       "      <td>0</td>\n",
       "      <td>NaN</td>\n",
       "      <td>FR04</td>\n",
       "      <td>5</td>\n",
       "      <td>0</td>\n",
       "      <td>0</td>\n",
       "      <td>NaN</td>\n",
       "      <td>1</td>\n",
       "      <td>NaN</td>\n",
       "      <td>0</td>\n",
       "      <td>NaN</td>\n",
       "      <td>N</td>\n",
       "      <td>1</td>\n",
       "      <td>0</td>\n",
       "    </tr>\n",
       "    <tr>\n",
       "      <th>9</th>\n",
       "      <td>NaN</td>\n",
       "      <td>0</td>\n",
       "      <td>0</td>\n",
       "      <td>EML</td>\n",
       "      <td>16</td>\n",
       "      <td>Jul</td>\n",
       "      <td>2015</td>\n",
       "      <td>NaN</td>\n",
       "      <td>0</td>\n",
       "      <td>NaN</td>\n",
       "      <td>0.037652</td>\n",
       "      <td>303</td>\n",
       "      <td>14</td>\n",
       "      <td>N</td>\n",
       "      <td>0.017183</td>\n",
       "      <td>0.02038</td>\n",
       "      <td>0</td>\n",
       "      <td>NaN</td>\n",
       "      <td>FR04</td>\n",
       "      <td>5</td>\n",
       "      <td>0</td>\n",
       "      <td>0</td>\n",
       "      <td>NaN</td>\n",
       "      <td>1</td>\n",
       "      <td>0.0</td>\n",
       "      <td>0</td>\n",
       "      <td>NaN</td>\n",
       "      <td>N</td>\n",
       "      <td>1</td>\n",
       "      <td>0</td>\n",
       "    </tr>\n",
       "    <tr>\n",
       "      <th>10</th>\n",
       "      <td>NaN</td>\n",
       "      <td>0</td>\n",
       "      <td>0</td>\n",
       "      <td>EML</td>\n",
       "      <td>29</td>\n",
       "      <td>Jul</td>\n",
       "      <td>2015</td>\n",
       "      <td>NaN</td>\n",
       "      <td>0</td>\n",
       "      <td>N</td>\n",
       "      <td>0.037652</td>\n",
       "      <td>312</td>\n",
       "      <td>14</td>\n",
       "      <td>N</td>\n",
       "      <td>0.017183</td>\n",
       "      <td>0.02038</td>\n",
       "      <td>0</td>\n",
       "      <td>NaN</td>\n",
       "      <td>FR04</td>\n",
       "      <td>5</td>\n",
       "      <td>0</td>\n",
       "      <td>0</td>\n",
       "      <td>NaN</td>\n",
       "      <td>2</td>\n",
       "      <td>NaN</td>\n",
       "      <td>0</td>\n",
       "      <td>NaN</td>\n",
       "      <td>N</td>\n",
       "      <td>2</td>\n",
       "      <td>0</td>\n",
       "    </tr>\n",
       "    <tr>\n",
       "      <th>11</th>\n",
       "      <td>NaN</td>\n",
       "      <td>0</td>\n",
       "      <td>0</td>\n",
       "      <td>EML</td>\n",
       "      <td>12</td>\n",
       "      <td>Aug</td>\n",
       "      <td>2015</td>\n",
       "      <td>NaN</td>\n",
       "      <td>0</td>\n",
       "      <td>NaN</td>\n",
       "      <td>0.037652</td>\n",
       "      <td>325</td>\n",
       "      <td>13</td>\n",
       "      <td>N</td>\n",
       "      <td>0.017183</td>\n",
       "      <td>0.02038</td>\n",
       "      <td>0</td>\n",
       "      <td>NaN</td>\n",
       "      <td>FR04</td>\n",
       "      <td>5</td>\n",
       "      <td>0</td>\n",
       "      <td>0</td>\n",
       "      <td>NaN</td>\n",
       "      <td>1</td>\n",
       "      <td>0.0</td>\n",
       "      <td>0</td>\n",
       "      <td>NaN</td>\n",
       "      <td>N</td>\n",
       "      <td>1</td>\n",
       "      <td>0</td>\n",
       "    </tr>\n",
       "    <tr>\n",
       "      <th>12</th>\n",
       "      <td>NaN</td>\n",
       "      <td>0</td>\n",
       "      <td>0</td>\n",
       "      <td>EML</td>\n",
       "      <td>19</td>\n",
       "      <td>Aug</td>\n",
       "      <td>2015</td>\n",
       "      <td>NaN</td>\n",
       "      <td>0</td>\n",
       "      <td>NaN</td>\n",
       "      <td>0.037652</td>\n",
       "      <td>348</td>\n",
       "      <td>13</td>\n",
       "      <td>N</td>\n",
       "      <td>0.017183</td>\n",
       "      <td>0.02038</td>\n",
       "      <td>0</td>\n",
       "      <td>NaN</td>\n",
       "      <td>FR04</td>\n",
       "      <td>5</td>\n",
       "      <td>0</td>\n",
       "      <td>0</td>\n",
       "      <td>NaN</td>\n",
       "      <td>1</td>\n",
       "      <td>NaN</td>\n",
       "      <td>0</td>\n",
       "      <td>NaN</td>\n",
       "      <td>N</td>\n",
       "      <td>1</td>\n",
       "      <td>0</td>\n",
       "    </tr>\n",
       "    <tr>\n",
       "      <th>13</th>\n",
       "      <td>NaN</td>\n",
       "      <td>0</td>\n",
       "      <td>0</td>\n",
       "      <td>EML</td>\n",
       "      <td>5</td>\n",
       "      <td>Sep</td>\n",
       "      <td>2015</td>\n",
       "      <td>NaN</td>\n",
       "      <td>0</td>\n",
       "      <td>NaN</td>\n",
       "      <td>0.037652</td>\n",
       "      <td>375</td>\n",
       "      <td>12</td>\n",
       "      <td>N</td>\n",
       "      <td>0.017183</td>\n",
       "      <td>0.02038</td>\n",
       "      <td>0</td>\n",
       "      <td>NaN</td>\n",
       "      <td>FR04</td>\n",
       "      <td>5</td>\n",
       "      <td>0</td>\n",
       "      <td>0</td>\n",
       "      <td>NaN</td>\n",
       "      <td>1</td>\n",
       "      <td>NaN</td>\n",
       "      <td>0</td>\n",
       "      <td>NaN</td>\n",
       "      <td>N</td>\n",
       "      <td>1</td>\n",
       "      <td>0</td>\n",
       "    </tr>\n",
       "    <tr>\n",
       "      <th>14</th>\n",
       "      <td>NaN</td>\n",
       "      <td>0</td>\n",
       "      <td>0</td>\n",
       "      <td>TFL</td>\n",
       "      <td>10</td>\n",
       "      <td>Sep</td>\n",
       "      <td>2015</td>\n",
       "      <td>NaN</td>\n",
       "      <td>0</td>\n",
       "      <td>NaN</td>\n",
       "      <td>0.037652</td>\n",
       "      <td>378</td>\n",
       "      <td>12</td>\n",
       "      <td>N</td>\n",
       "      <td>0.017183</td>\n",
       "      <td>0.02038</td>\n",
       "      <td>0</td>\n",
       "      <td>NaN</td>\n",
       "      <td>FR04</td>\n",
       "      <td>5</td>\n",
       "      <td>0</td>\n",
       "      <td>0</td>\n",
       "      <td>NaN</td>\n",
       "      <td>1</td>\n",
       "      <td>NaN</td>\n",
       "      <td>0</td>\n",
       "      <td>NaN</td>\n",
       "      <td>N</td>\n",
       "      <td>1</td>\n",
       "      <td>0</td>\n",
       "    </tr>\n",
       "    <tr>\n",
       "      <th>15</th>\n",
       "      <td>NaN</td>\n",
       "      <td>0</td>\n",
       "      <td>0</td>\n",
       "      <td>EML</td>\n",
       "      <td>17</td>\n",
       "      <td>Sep</td>\n",
       "      <td>2015</td>\n",
       "      <td>NaN</td>\n",
       "      <td>0</td>\n",
       "      <td>NaN</td>\n",
       "      <td>0.037652</td>\n",
       "      <td>384</td>\n",
       "      <td>12</td>\n",
       "      <td>N</td>\n",
       "      <td>0.017183</td>\n",
       "      <td>0.02038</td>\n",
       "      <td>0</td>\n",
       "      <td>NaN</td>\n",
       "      <td>FR04</td>\n",
       "      <td>5</td>\n",
       "      <td>0</td>\n",
       "      <td>0</td>\n",
       "      <td>NaN</td>\n",
       "      <td>1</td>\n",
       "      <td>NaN</td>\n",
       "      <td>0</td>\n",
       "      <td>NaN</td>\n",
       "      <td>N</td>\n",
       "      <td>1</td>\n",
       "      <td>0</td>\n",
       "    </tr>\n",
       "    <tr>\n",
       "      <th>16</th>\n",
       "      <td>NaN</td>\n",
       "      <td>0</td>\n",
       "      <td>0</td>\n",
       "      <td>SAT</td>\n",
       "      <td>17</td>\n",
       "      <td>Nov</td>\n",
       "      <td>2015</td>\n",
       "      <td>NaN</td>\n",
       "      <td>0</td>\n",
       "      <td>H</td>\n",
       "      <td>0.037652</td>\n",
       "      <td>454</td>\n",
       "      <td>10</td>\n",
       "      <td>N</td>\n",
       "      <td>0.017183</td>\n",
       "      <td>0.02038</td>\n",
       "      <td>0</td>\n",
       "      <td>NaN</td>\n",
       "      <td>FR04</td>\n",
       "      <td>5</td>\n",
       "      <td>0</td>\n",
       "      <td>0</td>\n",
       "      <td>850.0</td>\n",
       "      <td>1</td>\n",
       "      <td>1.0</td>\n",
       "      <td>0</td>\n",
       "      <td>NaN</td>\n",
       "      <td>N</td>\n",
       "      <td>1</td>\n",
       "      <td>0</td>\n",
       "    </tr>\n",
       "    <tr>\n",
       "      <th>17</th>\n",
       "      <td>NaN</td>\n",
       "      <td>0</td>\n",
       "      <td>0</td>\n",
       "      <td>LTR</td>\n",
       "      <td>17</td>\n",
       "      <td>Dec</td>\n",
       "      <td>2015</td>\n",
       "      <td>NaN</td>\n",
       "      <td>0</td>\n",
       "      <td>NaN</td>\n",
       "      <td>0.037652</td>\n",
       "      <td>495</td>\n",
       "      <td>9</td>\n",
       "      <td>N</td>\n",
       "      <td>0.017183</td>\n",
       "      <td>0.02038</td>\n",
       "      <td>0</td>\n",
       "      <td>NaN</td>\n",
       "      <td>FR04</td>\n",
       "      <td>5</td>\n",
       "      <td>0</td>\n",
       "      <td>0</td>\n",
       "      <td>NaN</td>\n",
       "      <td>1</td>\n",
       "      <td>1.0</td>\n",
       "      <td>0</td>\n",
       "      <td>NaN</td>\n",
       "      <td>N</td>\n",
       "      <td>1</td>\n",
       "      <td>0</td>\n",
       "    </tr>\n",
       "    <tr>\n",
       "      <th>18</th>\n",
       "      <td>NaN</td>\n",
       "      <td>0</td>\n",
       "      <td>0</td>\n",
       "      <td>EML</td>\n",
       "      <td>30</td>\n",
       "      <td>Dec</td>\n",
       "      <td>2015</td>\n",
       "      <td>NaN</td>\n",
       "      <td>0</td>\n",
       "      <td>NaN</td>\n",
       "      <td>0.037652</td>\n",
       "      <td>516</td>\n",
       "      <td>9</td>\n",
       "      <td>N</td>\n",
       "      <td>0.017183</td>\n",
       "      <td>0.02038</td>\n",
       "      <td>0</td>\n",
       "      <td>NaN</td>\n",
       "      <td>FR04</td>\n",
       "      <td>5</td>\n",
       "      <td>0</td>\n",
       "      <td>0</td>\n",
       "      <td>NaN</td>\n",
       "      <td>1</td>\n",
       "      <td>1.0</td>\n",
       "      <td>0</td>\n",
       "      <td>NaN</td>\n",
       "      <td>N</td>\n",
       "      <td>1</td>\n",
       "      <td>0</td>\n",
       "    </tr>\n",
       "    <tr>\n",
       "      <th>19</th>\n",
       "      <td>NaN</td>\n",
       "      <td>0</td>\n",
       "      <td>0</td>\n",
       "      <td>EML</td>\n",
       "      <td>28</td>\n",
       "      <td>Jan</td>\n",
       "      <td>2016</td>\n",
       "      <td>NaN</td>\n",
       "      <td>0</td>\n",
       "      <td>NaN</td>\n",
       "      <td>0.037652</td>\n",
       "      <td>563</td>\n",
       "      <td>8</td>\n",
       "      <td>N</td>\n",
       "      <td>0.017183</td>\n",
       "      <td>0.02038</td>\n",
       "      <td>0</td>\n",
       "      <td>NaN</td>\n",
       "      <td>FR04</td>\n",
       "      <td>5</td>\n",
       "      <td>0</td>\n",
       "      <td>0</td>\n",
       "      <td>NaN</td>\n",
       "      <td>1</td>\n",
       "      <td>NaN</td>\n",
       "      <td>0</td>\n",
       "      <td>NaN</td>\n",
       "      <td>N</td>\n",
       "      <td>1</td>\n",
       "      <td>0</td>\n",
       "    </tr>\n",
       "  </tbody>\n",
       "</table>\n",
       "</div>"
      ],
      "text/plain": [
       "    avg_income  CAMPUS_VISIT CAMPUS_VISIT_2 CONTACT_CODE1  Contact_Date  \\\n",
       "0          NaN             0              0           EML             1   \n",
       "1          NaN             0              0           SAT            12   \n",
       "2          NaN             0              0           C01            16   \n",
       "3          NaN             0              0           EML            11   \n",
       "4          NaN             0              0           TFL            28   \n",
       "5          NaN             0              0           PCR            28   \n",
       "6          NaN             0              0           EML             6   \n",
       "7          NaN             0              0           SAT            23   \n",
       "8          NaN             0              0           EML            14   \n",
       "9          NaN             0              0           EML            16   \n",
       "10         NaN             0              0           EML            29   \n",
       "11         NaN             0              0           EML            12   \n",
       "12         NaN             0              0           EML            19   \n",
       "13         NaN             0              0           EML             5   \n",
       "14         NaN             0              0           TFL            10   \n",
       "15         NaN             0              0           EML            17   \n",
       "16         NaN             0              0           SAT            17   \n",
       "17         NaN             0              0           LTR            17   \n",
       "18         NaN             0              0           EML            30   \n",
       "19         NaN             0              0           EML            28   \n",
       "\n",
       "   Contact_Month  Contact_Year  distance  Target_Enroll ETHNICITY    hscrat  \\\n",
       "0            Sep          2012       NaN              0       NaN  0.037652   \n",
       "1            Feb          2014       NaN              0         N  0.037652   \n",
       "2            Jan          2015       NaN              0         C  0.037652   \n",
       "3            Mar          2015       NaN              0       NaN  0.037652   \n",
       "4            Mar          2015       NaN              0         B  0.037652   \n",
       "5            Mar          2015       NaN              0         N  0.037652   \n",
       "6            May          2015       NaN              0       NaN  0.037652   \n",
       "7            Jun          2015       NaN              0         N  0.037652   \n",
       "8            Jul          2015       NaN              0       NaN  0.037652   \n",
       "9            Jul          2015       NaN              0       NaN  0.037652   \n",
       "10           Jul          2015       NaN              0         N  0.037652   \n",
       "11           Aug          2015       NaN              0       NaN  0.037652   \n",
       "12           Aug          2015       NaN              0       NaN  0.037652   \n",
       "13           Sep          2015       NaN              0       NaN  0.037652   \n",
       "14           Sep          2015       NaN              0       NaN  0.037652   \n",
       "15           Sep          2015       NaN              0       NaN  0.037652   \n",
       "16           Nov          2015       NaN              0         H  0.037652   \n",
       "17           Dec          2015       NaN              0       NaN  0.037652   \n",
       "18           Dec          2015       NaN              0       NaN  0.037652   \n",
       "19           Jan          2016       NaN              0       NaN  0.037652   \n",
       "\n",
       "     ID  init_span Instate   int1rat  int2rat  interest IRSCHOOL LEVEL_YEAR  \\\n",
       "0    32         48       N  0.017183  0.02038         0      NaN       FR04   \n",
       "1    51         31       N  0.017183  0.02038         0      NaN       FR04   \n",
       "2   120         20       N  0.017183  0.02038         0      NaN       FR04   \n",
       "3   151         18       N  0.017183  0.02038         0      NaN       FR04   \n",
       "4   160         18       N  0.017183  0.02038         0      NaN       FR04   \n",
       "5   166         18       N  0.017183  0.02038         0      NaN       FR04   \n",
       "6   212         16       N  0.017183  0.02038         0      NaN       FR04   \n",
       "7   246         15       N  0.017183  0.02038         0      NaN       FR04   \n",
       "8   288         14       N  0.017183  0.02038         0      NaN       FR04   \n",
       "9   303         14       N  0.017183  0.02038         0      NaN       FR04   \n",
       "10  312         14       N  0.017183  0.02038         0      NaN       FR04   \n",
       "11  325         13       N  0.017183  0.02038         0      NaN       FR04   \n",
       "12  348         13       N  0.017183  0.02038         0      NaN       FR04   \n",
       "13  375         12       N  0.017183  0.02038         0      NaN       FR04   \n",
       "14  378         12       N  0.017183  0.02038         0      NaN       FR04   \n",
       "15  384         12       N  0.017183  0.02038         0      NaN       FR04   \n",
       "16  454         10       N  0.017183  0.02038         0      NaN       FR04   \n",
       "17  495          9       N  0.017183  0.02038         0      NaN       FR04   \n",
       "18  516          9       N  0.017183  0.02038         0      NaN       FR04   \n",
       "19  563          8       N  0.017183  0.02038         0      NaN       FR04   \n",
       "\n",
       "    mailq  premiere  REFERRAL_CNTCTS  satscore  SELF_INIT_CNTCTS  sex  \\\n",
       "0       5         0                0       NaN                 1  1.0   \n",
       "1       5         0                0       NaN                 1  1.0   \n",
       "2       5         0                0       NaN                 0  1.0   \n",
       "3       5         0                0       NaN                 1  0.0   \n",
       "4       5         0                0    1090.0                 2  1.0   \n",
       "5       5         0                0       NaN                 1  0.0   \n",
       "6       5         0                0       NaN                 1  0.0   \n",
       "7       5         0                0    1210.0                 2  0.0   \n",
       "8       5         0                0       NaN                 1  NaN   \n",
       "9       5         0                0       NaN                 1  0.0   \n",
       "10      5         0                0       NaN                 2  NaN   \n",
       "11      5         0                0       NaN                 1  0.0   \n",
       "12      5         0                0       NaN                 1  NaN   \n",
       "13      5         0                0       NaN                 1  NaN   \n",
       "14      5         0                0       NaN                 1  NaN   \n",
       "15      5         0                0       NaN                 1  NaN   \n",
       "16      5         0                0     850.0                 1  1.0   \n",
       "17      5         0                0       NaN                 1  1.0   \n",
       "18      5         0                0       NaN                 1  1.0   \n",
       "19      5         0                0       NaN                 1  NaN   \n",
       "\n",
       "    SOLICITED_CNTCTS  telecq TERRITORY  TOTAL_CONTACTS  TRAVEL_INIT_CNTCTS  \n",
       "0                  0     NaN         N               1                   0  \n",
       "1                  0     NaN         N               1                   0  \n",
       "2                  1     NaN         N               1                   0  \n",
       "3                  0     NaN         N               1                   0  \n",
       "4                  0     NaN         N               2                   0  \n",
       "5                  1     NaN         N               2                   0  \n",
       "6                  0     NaN         N               1                   0  \n",
       "7                  0     NaN         N               2                   0  \n",
       "8                  0     NaN         N               1                   0  \n",
       "9                  0     NaN         N               1                   0  \n",
       "10                 0     NaN         N               2                   0  \n",
       "11                 0     NaN         N               1                   0  \n",
       "12                 0     NaN         N               1                   0  \n",
       "13                 0     NaN         N               1                   0  \n",
       "14                 0     NaN         N               1                   0  \n",
       "15                 0     NaN         N               1                   0  \n",
       "16                 0     NaN         N               1                   0  \n",
       "17                 0     NaN         N               1                   0  \n",
       "18                 0     NaN         N               1                   0  \n",
       "19                 0     NaN         N               1                   0  "
      ]
     },
     "execution_count": 240,
     "metadata": {},
     "output_type": "execute_result"
    }
   ],
   "source": [
    "df.head(20)"
   ]
  },
  {
   "cell_type": "code",
   "execution_count": null,
   "id": "cd19dce6",
   "metadata": {},
   "outputs": [],
   "source": []
  },
  {
   "cell_type": "code",
   "execution_count": 241,
   "id": "b32d464d",
   "metadata": {
    "scrolled": true
   },
   "outputs": [
    {
     "data": {
      "text/plain": [
       "C    2653\n",
       "H     557\n",
       "N     458\n",
       "B     431\n",
       "A     294\n",
       "O     138\n",
       "I      31\n",
       "Name: ETHNICITY, dtype: int64"
      ]
     },
     "execution_count": 241,
     "metadata": {},
     "output_type": "execute_result"
    }
   ],
   "source": [
    "df[\"ETHNICITY\"].value_counts()"
   ]
  },
  {
   "cell_type": "code",
   "execution_count": 242,
   "id": "cb0cc638",
   "metadata": {},
   "outputs": [
    {
     "name": "stdout",
     "output_type": "stream",
     "text": [
      "<class 'pandas.core.frame.DataFrame'>\n",
      "RangeIndex: 5160 entries, 0 to 5159\n",
      "Data columns (total 30 columns):\n",
      " #   Column              Non-Null Count  Dtype  \n",
      "---  ------              --------------  -----  \n",
      " 0   avg_income          4397 non-null   float64\n",
      " 1   CAMPUS_VISIT        5160 non-null   int64  \n",
      " 2   CAMPUS_VISIT_2      5160 non-null   object \n",
      " 3   CONTACT_CODE1       5155 non-null   object \n",
      " 4   Contact_Date        5160 non-null   int64  \n",
      " 5   Contact_Month       5160 non-null   object \n",
      " 6   Contact_Year        5160 non-null   int64  \n",
      " 7   distance            4489 non-null   float64\n",
      " 8   Target_Enroll       5160 non-null   int64  \n",
      " 9   ETHNICITY           4562 non-null   object \n",
      " 10  hscrat              5160 non-null   float64\n",
      " 11  ID                  5160 non-null   int64  \n",
      " 12  init_span           5160 non-null   int64  \n",
      " 13  Instate             5160 non-null   object \n",
      " 14  int1rat             5160 non-null   float64\n",
      " 15  int2rat             5160 non-null   float64\n",
      " 16  interest            5160 non-null   int64  \n",
      " 17  IRSCHOOL            4735 non-null   object \n",
      " 18  LEVEL_YEAR          5160 non-null   object \n",
      " 19  mailq               5160 non-null   int64  \n",
      " 20  premiere            5160 non-null   int64  \n",
      " 21  REFERRAL_CNTCTS     5160 non-null   int64  \n",
      " 22  satscore            3273 non-null   float64\n",
      " 23  SELF_INIT_CNTCTS    5160 non-null   int64  \n",
      " 24  sex                 5033 non-null   float64\n",
      " 25  SOLICITED_CNTCTS    5160 non-null   int64  \n",
      " 26  telecq              2105 non-null   float64\n",
      " 27  TERRITORY           5160 non-null   object \n",
      " 28  TOTAL_CONTACTS      5160 non-null   int64  \n",
      " 29  TRAVEL_INIT_CNTCTS  5160 non-null   int64  \n",
      "dtypes: float64(8), int64(14), object(8)\n",
      "memory usage: 1.2+ MB\n"
     ]
    }
   ],
   "source": [
    "df.info()"
   ]
  },
  {
   "cell_type": "code",
   "execution_count": 243,
   "id": "f9cc0c4d",
   "metadata": {},
   "outputs": [
    {
     "data": {
      "text/plain": [
       "<AxesSubplot:xlabel='TERRITORY', ylabel='count'>"
      ]
     },
     "execution_count": 243,
     "metadata": {},
     "output_type": "execute_result"
    },
    {
     "data": {
      "image/png": "[encoded data removed]",
      "text/plain": [
       "<Figure size 432x288 with 1 Axes>"
      ]
     },
     "metadata": {
      "needs_background": "light"
     },
     "output_type": "display_data"
    }
   ],
   "source": [
    "sns.countplot(x=\"TERRITORY\",data=df)"
   ]
  },
  {
   "cell_type": "code",
   "execution_count": 244,
   "id": "948d6341",
   "metadata": {},
   "outputs": [
    {
     "data": {
      "text/plain": [
       "0    2580\n",
       "1    2580\n",
       "Name: Target_Enroll, dtype: int64"
      ]
     },
     "execution_count": 244,
     "metadata": {},
     "output_type": "execute_result"
    }
   ],
   "source": [
    "df[\"Target_Enroll\"].value_counts()"
   ]
  },
  {
   "cell_type": "code",
   "execution_count": 245,
   "id": "77ae4f60",
   "metadata": {},
   "outputs": [
    {
     "data": {
      "text/plain": [
       "5    3398\n",
       "1     778\n",
       "2     628\n",
       "3     356\n",
       "Name: mailq, dtype: int64"
      ]
     },
     "execution_count": 245,
     "metadata": {},
     "output_type": "execute_result"
    }
   ],
   "source": [
    "df[\"mailq\"].value_counts()"
   ]
  },
  {
   "cell_type": "code",
   "execution_count": 246,
   "id": "2125af40",
   "metadata": {},
   "outputs": [
    {
     "name": "stderr",
     "output_type": "stream",
     "text": [
      "C:\\Users\\Varun\\AppData\\Local\\Programs\\Python\\Python310\\lib\\site-packages\\seaborn\\_decorators.py:36: FutureWarning: Pass the following variable as a keyword arg: x. From version 0.12, the only valid positional argument will be `data`, and passing other arguments without an explicit keyword will result in an error or misinterpretation.\n",
      "  warnings.warn(\n"
     ]
    },
    {
     "data": {
      "text/plain": [
       "<AxesSubplot:xlabel='telecq', ylabel='count'>"
      ]
     },
     "execution_count": 246,
     "metadata": {},
     "output_type": "execute_result"
    },
    {
     "data": {
      "image/png": "[encoded data removed]",
      "text/plain": [
       "<Figure size 432x288 with 1 Axes>"
      ]
     },
     "metadata": {
      "needs_background": "light"
     },
     "output_type": "display_data"
    }
   ],
   "source": [
    "sns.countplot(df[\"telecq\"],hue=df[\"Target_Enroll\"])"
   ]
  },
  {
   "cell_type": "code",
   "execution_count": 247,
   "id": "0e2c9ff0",
   "metadata": {},
   "outputs": [
    {
     "name": "stderr",
     "output_type": "stream",
     "text": [
      "C:\\Users\\Varun\\AppData\\Local\\Programs\\Python\\Python310\\lib\\site-packages\\seaborn\\distributions.py:2619: FutureWarning: `distplot` is a deprecated function and will be removed in a future version. Please adapt your code to use either `displot` (a figure-level function with similar flexibility) or `histplot` (an axes-level function for histograms).\n",
      "  warnings.warn(msg, FutureWarning)\n"
     ]
    },
    {
     "data": {
      "text/plain": [
       "<AxesSubplot:xlabel='hscrat', ylabel='Density'>"
      ]
     },
     "execution_count": 247,
     "metadata": {},
     "output_type": "execute_result"
    },
    {
     "data": {
      "image/png": "[encoded data removed]",
      "text/plain": [
       "<Figure size 432x288 with 1 Axes>"
      ]
     },
     "metadata": {
      "needs_background": "light"
     },
     "output_type": "display_data"
    }
   ],
   "source": [
    "sns.distplot(df[\"hscrat\"])"
   ]
  },
  {
   "cell_type": "code",
   "execution_count": 248,
   "id": "635a7cfa",
   "metadata": {},
   "outputs": [
    {
     "data": {
      "text/plain": [
       "0    4418\n",
       "1     709\n",
       "2      33\n",
       "Name: CAMPUS_VISIT, dtype: int64"
      ]
     },
     "execution_count": 248,
     "metadata": {},
     "output_type": "execute_result"
    }
   ],
   "source": [
    "df[\"CAMPUS_VISIT\"].value_counts()"
   ]
  },
  {
   "cell_type": "code",
   "execution_count": 249,
   "id": "1f7f5629",
   "metadata": {},
   "outputs": [
    {
     "data": {
      "text/plain": [
       "0     4418\n",
       "1+     742\n",
       "Name: CAMPUS_VISIT_2, dtype: int64"
      ]
     },
     "execution_count": 249,
     "metadata": {},
     "output_type": "execute_result"
    }
   ],
   "source": [
    "df[\"CAMPUS_VISIT_2\"].value_counts()"
   ]
  },
  {
   "cell_type": "code",
   "execution_count": 250,
   "id": "b1c37750",
   "metadata": {},
   "outputs": [
    {
     "data": {
      "text/plain": [
       "FR04    5160\n",
       "Name: LEVEL_YEAR, dtype: int64"
      ]
     },
     "execution_count": 250,
     "metadata": {},
     "output_type": "execute_result"
    }
   ],
   "source": [
    "df['LEVEL_YEAR'].value_counts()"
   ]
  },
  {
   "cell_type": "code",
   "execution_count": 251,
   "id": "a145ff1c",
   "metadata": {},
   "outputs": [],
   "source": [
    "df.drop('LEVEL_YEAR',axis=1,inplace=True)"
   ]
  },
  {
   "cell_type": "code",
   "execution_count": 252,
   "id": "6321367e",
   "metadata": {},
   "outputs": [
    {
     "name": "stdout",
     "output_type": "stream",
     "text": [
      "<class 'pandas.core.frame.DataFrame'>\n",
      "RangeIndex: 5160 entries, 0 to 5159\n",
      "Data columns (total 29 columns):\n",
      " #   Column              Non-Null Count  Dtype  \n",
      "---  ------              --------------  -----  \n",
      " 0   avg_income          4397 non-null   float64\n",
      " 1   CAMPUS_VISIT        5160 non-null   int64  \n",
      " 2   CAMPUS_VISIT_2      5160 non-null   object \n",
      " 3   CONTACT_CODE1       5155 non-null   object \n",
      " 4   Contact_Date        5160 non-null   int64  \n",
      " 5   Contact_Month       5160 non-null   object \n",
      " 6   Contact_Year        5160 non-null   int64  \n",
      " 7   distance            4489 non-null   float64\n",
      " 8   Target_Enroll       5160 non-null   int64  \n",
      " 9   ETHNICITY           4562 non-null   object \n",
      " 10  hscrat              5160 non-null   float64\n",
      " 11  ID                  5160 non-null   int64  \n",
      " 12  init_span           5160 non-null   int64  \n",
      " 13  Instate             5160 non-null   object \n",
      " 14  int1rat             5160 non-null   float64\n",
      " 15  int2rat             5160 non-null   float64\n",
      " 16  interest            5160 non-null   int64  \n",
      " 17  IRSCHOOL            4735 non-null   object \n",
      " 18  mailq               5160 non-null   int64  \n",
      " 19  premiere            5160 non-null   int64  \n",
      " 20  REFERRAL_CNTCTS     5160 non-null   int64  \n",
      " 21  satscore            3273 non-null   float64\n",
      " 22  SELF_INIT_CNTCTS    5160 non-null   int64  \n",
      " 23  sex                 5033 non-null   float64\n",
      " 24  SOLICITED_CNTCTS    5160 non-null   int64  \n",
      " 25  telecq              2105 non-null   float64\n",
      " 26  TERRITORY           5160 non-null   object \n",
      " 27  TOTAL_CONTACTS      5160 non-null   int64  \n",
      " 28  TRAVEL_INIT_CNTCTS  5160 non-null   int64  \n",
      "dtypes: float64(8), int64(14), object(7)\n",
      "memory usage: 1.1+ MB\n"
     ]
    }
   ],
   "source": [
    "df.info()"
   ]
  },
  {
   "cell_type": "code",
   "execution_count": 253,
   "id": "32f6e552",
   "metadata": {},
   "outputs": [],
   "source": [
    "df.drop('ID',axis=1,inplace=True)"
   ]
  },
  {
   "cell_type": "code",
   "execution_count": 254,
   "id": "22dadba7",
   "metadata": {},
   "outputs": [
    {
     "data": {
      "text/plain": [
       "447290    0.009081\n",
       "445573    0.006969\n",
       "440324    0.006969\n",
       "443509    0.006969\n",
       "441471    0.006758\n",
       "            ...   \n",
       "371109    0.000211\n",
       "370112    0.000211\n",
       "372069    0.000211\n",
       "372070    0.000211\n",
       "442235    0.000211\n",
       "Name: IRSCHOOL, Length: 1767, dtype: float64"
      ]
     },
     "execution_count": 254,
     "metadata": {},
     "output_type": "execute_result"
    }
   ],
   "source": [
    "df['IRSCHOOL'].value_counts(normalize=True)"
   ]
  },
  {
   "cell_type": "code",
   "execution_count": 255,
   "id": "400cad7b",
   "metadata": {},
   "outputs": [],
   "source": [
    "df.drop('IRSCHOOL',axis=1,inplace=True)"
   ]
  },
  {
   "cell_type": "code",
   "execution_count": 256,
   "id": "a6582495",
   "metadata": {},
   "outputs": [],
   "source": [
    "df.drop('CAMPUS_VISIT_2',axis=1,inplace=True)"
   ]
  },
  {
   "cell_type": "code",
   "execution_count": 257,
   "id": "8bc40895",
   "metadata": {},
   "outputs": [],
   "source": [
    "df_obj=df.select_dtypes(include=['object']).columns.tolist()"
   ]
  },
  {
   "cell_type": "code",
   "execution_count": 258,
   "id": "7c097210",
   "metadata": {},
   "outputs": [
    {
     "data": {
      "text/plain": [
       "['CONTACT_CODE1', 'Contact_Month', 'ETHNICITY', 'Instate', 'TERRITORY']"
      ]
     },
     "execution_count": 258,
     "metadata": {},
     "output_type": "execute_result"
    }
   ],
   "source": [
    "df_obj"
   ]
  },
  {
   "cell_type": "code",
   "execution_count": 259,
   "id": "9119c914",
   "metadata": {},
   "outputs": [
    {
     "name": "stderr",
     "output_type": "stream",
     "text": [
      "C:\\Users\\Varun\\AppData\\Local\\Programs\\Python\\Python310\\lib\\site-packages\\seaborn\\_decorators.py:36: FutureWarning: Pass the following variable as a keyword arg: x. From version 0.12, the only valid positional argument will be `data`, and passing other arguments without an explicit keyword will result in an error or misinterpretation.\n",
      "  warnings.warn(\n"
     ]
    },
    {
     "data": {
      "text/plain": [
       "<AxesSubplot:xlabel='TERRITORY', ylabel='count'>"
      ]
     },
     "execution_count": 259,
     "metadata": {},
     "output_type": "execute_result"
    },
    {
     "data": {
      "image/png": "[encoded data removed]",
      "text/plain": [
       "<Figure size 432x288 with 1 Axes>"
      ]
     },
     "metadata": {
      "needs_background": "light"
     },
     "output_type": "display_data"
    }
   ],
   "source": [
    "sns.countplot(df['TERRITORY'],hue=df[\"Target_Enroll\"])"
   ]
  },
  {
   "cell_type": "code",
   "execution_count": 260,
   "id": "bd1d51ab",
   "metadata": {},
   "outputs": [],
   "source": [
    "df.drop_duplicates(inplace=True)"
   ]
  },
  {
   "cell_type": "code",
   "execution_count": 261,
   "id": "a465a575",
   "metadata": {},
   "outputs": [
    {
     "data": {
      "text/plain": [
       "35568.0"
      ]
     },
     "execution_count": 261,
     "metadata": {},
     "output_type": "execute_result"
    }
   ],
   "source": [
    "df[\"avg_income\"].dropna().quantile(.25)"
   ]
  },
  {
   "cell_type": "code",
   "execution_count": 262,
   "id": "8cbb2207",
   "metadata": {},
   "outputs": [
    {
     "data": {
      "text/plain": [
       "35568.0"
      ]
     },
     "execution_count": 262,
     "metadata": {},
     "output_type": "execute_result"
    }
   ],
   "source": [
    "df[\"avg_income\"].quantile(.25)"
   ]
  },
  {
   "cell_type": "code",
   "execution_count": 263,
   "id": "def84d3d",
   "metadata": {},
   "outputs": [],
   "source": [
    "df_num=df.select_dtypes(include=['int64','float64']).columns.tolist()"
   ]
  },
  {
   "cell_type": "code",
   "execution_count": 264,
   "id": "42355b43",
   "metadata": {},
   "outputs": [
    {
     "data": {
      "text/plain": [
       "['avg_income',\n",
       " 'CAMPUS_VISIT',\n",
       " 'Contact_Date',\n",
       " 'Contact_Year',\n",
       " 'distance',\n",
       " 'Target_Enroll',\n",
       " 'hscrat',\n",
       " 'init_span',\n",
       " 'int1rat',\n",
       " 'int2rat',\n",
       " 'interest',\n",
       " 'mailq',\n",
       " 'premiere',\n",
       " 'REFERRAL_CNTCTS',\n",
       " 'satscore',\n",
       " 'SELF_INIT_CNTCTS',\n",
       " 'sex',\n",
       " 'SOLICITED_CNTCTS',\n",
       " 'telecq',\n",
       " 'TOTAL_CONTACTS',\n",
       " 'TRAVEL_INIT_CNTCTS']"
      ]
     },
     "execution_count": 264,
     "metadata": {},
     "output_type": "execute_result"
    }
   ],
   "source": [
    "df_num"
   ]
  },
  {
   "cell_type": "code",
   "execution_count": 265,
   "id": "8f5c9681",
   "metadata": {},
   "outputs": [
    {
     "data": {
      "text/plain": [
       "2015    2966\n",
       "2014    1596\n",
       "2016     268\n",
       "2013     233\n",
       "2012      59\n",
       "2011       8\n",
       "2010       1\n",
       "Name: Contact_Year, dtype: int64"
      ]
     },
     "execution_count": 265,
     "metadata": {},
     "output_type": "execute_result"
    }
   ],
   "source": [
    "df['Contact_Year'].value_counts()\n"
   ]
  },
  {
   "cell_type": "code",
   "execution_count": 266,
   "id": "086a141c",
   "metadata": {},
   "outputs": [
    {
     "name": "stderr",
     "output_type": "stream",
     "text": [
      "C:\\Users\\Varun\\AppData\\Local\\Programs\\Python\\Python310\\lib\\site-packages\\seaborn\\_decorators.py:36: FutureWarning: Pass the following variable as a keyword arg: x. From version 0.12, the only valid positional argument will be `data`, and passing other arguments without an explicit keyword will result in an error or misinterpretation.\n",
      "  warnings.warn(\n"
     ]
    },
    {
     "data": {
      "text/plain": [
       "<AxesSubplot:xlabel='Contact_Year', ylabel='count'>"
      ]
     },
     "execution_count": 266,
     "metadata": {},
     "output_type": "execute_result"
    },
    {
     "data": {
      "image/png": "[encoded data removed]",
      "text/plain": [
       "<Figure size 432x288 with 1 Axes>"
      ]
     },
     "metadata": {
      "needs_background": "light"
     },
     "output_type": "display_data"
    }
   ],
   "source": [
    "sns.countplot(df['Contact_Year'],hue=df[\"Target_Enroll\"])"
   ]
  },
  {
   "cell_type": "code",
   "execution_count": 267,
   "id": "fa18e061",
   "metadata": {},
   "outputs": [],
   "source": [
    "#contact year dropped"
   ]
  },
  {
   "cell_type": "code",
   "execution_count": 268,
   "id": "5ccd8537",
   "metadata": {},
   "outputs": [
    {
     "name": "stderr",
     "output_type": "stream",
     "text": [
      "C:\\Users\\Varun\\AppData\\Local\\Programs\\Python\\Python310\\lib\\site-packages\\seaborn\\_decorators.py:36: FutureWarning: Pass the following variable as a keyword arg: x. From version 0.12, the only valid positional argument will be `data`, and passing other arguments without an explicit keyword will result in an error or misinterpretation.\n",
      "  warnings.warn(\n"
     ]
    },
    {
     "data": {
      "text/plain": [
       "<AxesSubplot:xlabel='Contact_Month', ylabel='count'>"
      ]
     },
     "execution_count": 268,
     "metadata": {},
     "output_type": "execute_result"
    },
    {
     "data": {
      "image/png": "[encoded data removed]",
      "text/plain": [
       "<Figure size 432x288 with 1 Axes>"
      ]
     },
     "metadata": {
      "needs_background": "light"
     },
     "output_type": "display_data"
    }
   ],
   "source": [
    "sns.countplot(df['Contact_Month'],hue=df[\"Target_Enroll\"])"
   ]
  },
  {
   "cell_type": "code",
   "execution_count": 269,
   "id": "b006665e",
   "metadata": {},
   "outputs": [
    {
     "data": {
      "text/plain": [
       "2"
      ]
     },
     "execution_count": 269,
     "metadata": {},
     "output_type": "execute_result"
    }
   ],
   "source": [
    "df['Target_Enroll'].nunique()"
   ]
  },
  {
   "cell_type": "code",
   "execution_count": 270,
   "id": "4fccc62b",
   "metadata": {},
   "outputs": [],
   "source": [
    "df_u2=[]\n",
    "for col in df_num:\n",
    "    if df[col].nunique()==2:\n",
    "        df_u2.append(col)\n"
   ]
  },
  {
   "cell_type": "code",
   "execution_count": 271,
   "id": "99dcc694",
   "metadata": {},
   "outputs": [
    {
     "data": {
      "text/plain": [
       "['Target_Enroll', 'premiere', 'sex']"
      ]
     },
     "execution_count": 271,
     "metadata": {},
     "output_type": "execute_result"
    }
   ],
   "source": [
    "df_u2"
   ]
  },
  {
   "cell_type": "code",
   "execution_count": 272,
   "id": "2d31c802",
   "metadata": {},
   "outputs": [
    {
     "name": "stderr",
     "output_type": "stream",
     "text": [
      "C:\\Users\\Varun\\AppData\\Local\\Programs\\Python\\Python310\\lib\\site-packages\\seaborn\\_decorators.py:36: FutureWarning: Pass the following variable as a keyword arg: x. From version 0.12, the only valid positional argument will be `data`, and passing other arguments without an explicit keyword will result in an error or misinterpretation.\n",
      "  warnings.warn(\n"
     ]
    },
    {
     "data": {
      "text/plain": [
       "<AxesSubplot:xlabel='ETHNICITY', ylabel='count'>"
      ]
     },
     "execution_count": 272,
     "metadata": {},
     "output_type": "execute_result"
    },
    {
     "data": {
      "image/png": "[encoded data removed]",
      "text/plain": [
       "<Figure size 432x288 with 1 Axes>"
      ]
     },
     "metadata": {
      "needs_background": "light"
     },
     "output_type": "display_data"
    }
   ],
   "source": [
    "sns.countplot(df['ETHNICITY'],hue=df['Target_Enroll'])"
   ]
  },
  {
   "cell_type": "code",
   "execution_count": 273,
   "id": "d3aba5a6",
   "metadata": {},
   "outputs": [
    {
     "data": {
      "text/plain": [
       "C    58.181017\n",
       "H    12.243999\n",
       "N     9.909712\n",
       "B     9.491301\n",
       "A     6.452323\n",
       "O     3.038978\n",
       "I     0.682669\n",
       "Name: ETHNICITY, dtype: float64"
      ]
     },
     "execution_count": 273,
     "metadata": {},
     "output_type": "execute_result"
    }
   ],
   "source": [
    "df['ETHNICITY'].value_counts(normalize=True)*100"
   ]
  },
  {
   "cell_type": "code",
   "execution_count": 274,
   "id": "292c7f96",
   "metadata": {},
   "outputs": [
    {
     "name": "stderr",
     "output_type": "stream",
     "text": [
      "C:\\Users\\Varun\\AppData\\Local\\Programs\\Python\\Python310\\lib\\site-packages\\seaborn\\_decorators.py:36: FutureWarning: Pass the following variable as a keyword arg: x. From version 0.12, the only valid positional argument will be `data`, and passing other arguments without an explicit keyword will result in an error or misinterpretation.\n",
      "  warnings.warn(\n"
     ]
    },
    {
     "data": {
      "text/plain": [
       "<AxesSubplot:xlabel='ETHNICITY', ylabel='count'>"
      ]
     },
     "execution_count": 274,
     "metadata": {},
     "output_type": "execute_result"
    },
    {
     "data": {
      "image/png": "[encoded data removed]",
      "text/plain": [
       "<Figure size 432x288 with 1 Axes>"
      ]
     },
     "metadata": {
      "needs_background": "light"
     },
     "output_type": "display_data"
    }
   ],
   "source": [
    "sns.countplot(df['ETHNICITY'])"
   ]
  },
  {
   "cell_type": "code",
   "execution_count": 275,
   "id": "7bc647bf",
   "metadata": {},
   "outputs": [
    {
     "data": {
      "text/plain": [
       "0.11498733190411226"
      ]
     },
     "execution_count": 275,
     "metadata": {},
     "output_type": "execute_result"
    }
   ],
   "source": [
    "(df['ETHNICITY'].isnull().sum())/len(df)"
   ]
  },
  {
   "cell_type": "code",
   "execution_count": 276,
   "id": "3881358b",
   "metadata": {},
   "outputs": [
    {
     "data": {
      "text/plain": [
       "7"
      ]
     },
     "execution_count": 276,
     "metadata": {},
     "output_type": "execute_result"
    }
   ],
   "source": [
    "df['ETHNICITY'].dropna().nunique()"
   ]
  },
  {
   "cell_type": "code",
   "execution_count": 277,
   "id": "83595f5c",
   "metadata": {},
   "outputs": [
    {
     "data": {
      "text/plain": [
       "450"
      ]
     },
     "execution_count": 277,
     "metadata": {},
     "output_type": "execute_result"
    }
   ],
   "source": [
    "len(df.loc[df['ETHNICITY']=='N'])"
   ]
  },
  {
   "cell_type": "code",
   "execution_count": 278,
   "id": "86defdd1",
   "metadata": {},
   "outputs": [
    {
     "name": "stdout",
     "output_type": "stream",
     "text": [
      "['avg_income', 'CAMPUS_VISIT', 'Contact_Date', 'Contact_Year', 'distance', 'Target_Enroll', 'hscrat', 'init_span', 'int1rat', 'int2rat', 'interest', 'mailq', 'premiere', 'REFERRAL_CNTCTS', 'satscore', 'SELF_INIT_CNTCTS', 'sex', 'SOLICITED_CNTCTS', 'telecq', 'TOTAL_CONTACTS', 'TRAVEL_INIT_CNTCTS']\n",
      "['CONTACT_CODE1', 'Contact_Month', 'ETHNICITY', 'Instate', 'TERRITORY']\n",
      "['Target_Enroll', 'premiere', 'sex']\n"
     ]
    },
    {
     "data": {
      "text/plain": [
       "21"
      ]
     },
     "execution_count": 278,
     "metadata": {},
     "output_type": "execute_result"
    }
   ],
   "source": [
    "print(df_num)\n",
    "print(df_obj)\n",
    "print(df_u2)\n",
    "len(df_num)"
   ]
  },
  {
   "cell_type": "code",
   "execution_count": 279,
   "id": "61682964",
   "metadata": {},
   "outputs": [
    {
     "data": {
      "text/plain": [
       "Target_Enroll      0\n",
       "premiere           0\n",
       "sex              127\n",
       "dtype: int64"
      ]
     },
     "execution_count": 279,
     "metadata": {},
     "output_type": "execute_result"
    }
   ],
   "source": [
    "df[df_u2].isnull().sum()"
   ]
  },
  {
   "cell_type": "code",
   "execution_count": 280,
   "id": "d0d6d6ea",
   "metadata": {},
   "outputs": [
    {
     "data": {
      "text/plain": [
       "1.0    3090\n",
       "0.0    1914\n",
       "Name: sex, dtype: int64"
      ]
     },
     "execution_count": 280,
     "metadata": {},
     "output_type": "execute_result"
    }
   ],
   "source": [
    "df['sex'].value_counts()#as the number of null values are very less so fill it with the mode "
   ]
  },
  {
   "cell_type": "code",
   "execution_count": 281,
   "id": "03cc0643",
   "metadata": {},
   "outputs": [],
   "source": [
    "import matplotlib.pyplot as plt"
   ]
  },
  {
   "cell_type": "code",
   "execution_count": 282,
   "id": "59529263",
   "metadata": {},
   "outputs": [
    {
     "name": "stderr",
     "output_type": "stream",
     "text": [
      "C:\\Users\\Varun\\AppData\\Local\\Programs\\Python\\Python310\\lib\\site-packages\\seaborn\\_decorators.py:36: FutureWarning: Pass the following variable as a keyword arg: x. From version 0.12, the only valid positional argument will be `data`, and passing other arguments without an explicit keyword will result in an error or misinterpretation.\n",
      "  warnings.warn(\n",
      "C:\\Users\\Varun\\AppData\\Local\\Programs\\Python\\Python310\\lib\\site-packages\\seaborn\\_decorators.py:36: FutureWarning: Pass the following variable as a keyword arg: x. From version 0.12, the only valid positional argument will be `data`, and passing other arguments without an explicit keyword will result in an error or misinterpretation.\n",
      "  warnings.warn(\n",
      "C:\\Users\\Varun\\AppData\\Local\\Programs\\Python\\Python310\\lib\\site-packages\\seaborn\\_decorators.py:36: FutureWarning: Pass the following variable as a keyword arg: x. From version 0.12, the only valid positional argument will be `data`, and passing other arguments without an explicit keyword will result in an error or misinterpretation.\n",
      "  warnings.warn(\n",
      "C:\\Users\\Varun\\AppData\\Local\\Programs\\Python\\Python310\\lib\\site-packages\\seaborn\\_decorators.py:36: FutureWarning: Pass the following variable as a keyword arg: x. From version 0.12, the only valid positional argument will be `data`, and passing other arguments without an explicit keyword will result in an error or misinterpretation.\n",
      "  warnings.warn(\n",
      "C:\\Users\\Varun\\AppData\\Local\\Programs\\Python\\Python310\\lib\\site-packages\\seaborn\\_decorators.py:36: FutureWarning: Pass the following variable as a keyword arg: x. From version 0.12, the only valid positional argument will be `data`, and passing other arguments without an explicit keyword will result in an error or misinterpretation.\n",
      "  warnings.warn(\n",
      "C:\\Users\\Varun\\AppData\\Local\\Programs\\Python\\Python310\\lib\\site-packages\\seaborn\\_decorators.py:36: FutureWarning: Pass the following variable as a keyword arg: x. From version 0.12, the only valid positional argument will be `data`, and passing other arguments without an explicit keyword will result in an error or misinterpretation.\n",
      "  warnings.warn(\n",
      "C:\\Users\\Varun\\AppData\\Local\\Programs\\Python\\Python310\\lib\\site-packages\\seaborn\\_decorators.py:36: FutureWarning: Pass the following variable as a keyword arg: x. From version 0.12, the only valid positional argument will be `data`, and passing other arguments without an explicit keyword will result in an error or misinterpretation.\n",
      "  warnings.warn(\n",
      "C:\\Users\\Varun\\AppData\\Local\\Programs\\Python\\Python310\\lib\\site-packages\\seaborn\\_decorators.py:36: FutureWarning: Pass the following variable as a keyword arg: x. From version 0.12, the only valid positional argument will be `data`, and passing other arguments without an explicit keyword will result in an error or misinterpretation.\n",
      "  warnings.warn(\n",
      "C:\\Users\\Varun\\AppData\\Local\\Programs\\Python\\Python310\\lib\\site-packages\\seaborn\\_decorators.py:36: FutureWarning: Pass the following variable as a keyword arg: x. From version 0.12, the only valid positional argument will be `data`, and passing other arguments without an explicit keyword will result in an error or misinterpretation.\n",
      "  warnings.warn(\n",
      "C:\\Users\\Varun\\AppData\\Local\\Programs\\Python\\Python310\\lib\\site-packages\\seaborn\\_decorators.py:36: FutureWarning: Pass the following variable as a keyword arg: x. From version 0.12, the only valid positional argument will be `data`, and passing other arguments without an explicit keyword will result in an error or misinterpretation.\n",
      "  warnings.warn(\n",
      "C:\\Users\\Varun\\AppData\\Local\\Programs\\Python\\Python310\\lib\\site-packages\\seaborn\\_decorators.py:36: FutureWarning: Pass the following variable as a keyword arg: x. From version 0.12, the only valid positional argument will be `data`, and passing other arguments without an explicit keyword will result in an error or misinterpretation.\n",
      "  warnings.warn(\n",
      "C:\\Users\\Varun\\AppData\\Local\\Programs\\Python\\Python310\\lib\\site-packages\\seaborn\\_decorators.py:36: FutureWarning: Pass the following variable as a keyword arg: x. From version 0.12, the only valid positional argument will be `data`, and passing other arguments without an explicit keyword will result in an error or misinterpretation.\n",
      "  warnings.warn(\n",
      "C:\\Users\\Varun\\AppData\\Local\\Programs\\Python\\Python310\\lib\\site-packages\\seaborn\\_decorators.py:36: FutureWarning: Pass the following variable as a keyword arg: x. From version 0.12, the only valid positional argument will be `data`, and passing other arguments without an explicit keyword will result in an error or misinterpretation.\n",
      "  warnings.warn(\n",
      "C:\\Users\\Varun\\AppData\\Local\\Programs\\Python\\Python310\\lib\\site-packages\\seaborn\\_decorators.py:36: FutureWarning: Pass the following variable as a keyword arg: x. From version 0.12, the only valid positional argument will be `data`, and passing other arguments without an explicit keyword will result in an error or misinterpretation.\n",
      "  warnings.warn(\n",
      "C:\\Users\\Varun\\AppData\\Local\\Programs\\Python\\Python310\\lib\\site-packages\\seaborn\\_decorators.py:36: FutureWarning: Pass the following variable as a keyword arg: x. From version 0.12, the only valid positional argument will be `data`, and passing other arguments without an explicit keyword will result in an error or misinterpretation.\n",
      "  warnings.warn(\n",
      "C:\\Users\\Varun\\AppData\\Local\\Programs\\Python\\Python310\\lib\\site-packages\\seaborn\\_decorators.py:36: FutureWarning: Pass the following variable as a keyword arg: x. From version 0.12, the only valid positional argument will be `data`, and passing other arguments without an explicit keyword will result in an error or misinterpretation.\n",
      "  warnings.warn(\n",
      "C:\\Users\\Varun\\AppData\\Local\\Programs\\Python\\Python310\\lib\\site-packages\\seaborn\\_decorators.py:36: FutureWarning: Pass the following variable as a keyword arg: x. From version 0.12, the only valid positional argument will be `data`, and passing other arguments without an explicit keyword will result in an error or misinterpretation.\n",
      "  warnings.warn(\n",
      "C:\\Users\\Varun\\AppData\\Local\\Programs\\Python\\Python310\\lib\\site-packages\\seaborn\\_decorators.py:36: FutureWarning: Pass the following variable as a keyword arg: x. From version 0.12, the only valid positional argument will be `data`, and passing other arguments without an explicit keyword will result in an error or misinterpretation.\n",
      "  warnings.warn(\n",
      "C:\\Users\\Varun\\AppData\\Local\\Programs\\Python\\Python310\\lib\\site-packages\\seaborn\\_decorators.py:36: FutureWarning: Pass the following variable as a keyword arg: x. From version 0.12, the only valid positional argument will be `data`, and passing other arguments without an explicit keyword will result in an error or misinterpretation.\n",
      "  warnings.warn(\n",
      "C:\\Users\\Varun\\AppData\\Local\\Programs\\Python\\Python310\\lib\\site-packages\\seaborn\\_decorators.py:36: FutureWarning: Pass the following variable as a keyword arg: x. From version 0.12, the only valid positional argument will be `data`, and passing other arguments without an explicit keyword will result in an error or misinterpretation.\n",
      "  warnings.warn(\n",
      "C:\\Users\\Varun\\AppData\\Local\\Programs\\Python\\Python310\\lib\\site-packages\\seaborn\\_decorators.py:36: FutureWarning: Pass the following variable as a keyword arg: x. From version 0.12, the only valid positional argument will be `data`, and passing other arguments without an explicit keyword will result in an error or misinterpretation.\n",
      "  warnings.warn(\n"
     ]
    },
    {
     "data": {
      "image/png": "[encoded data removed]",
      "text/plain": [
       "<Figure size 1296x1944 with 21 Axes>"
      ]
     },
     "metadata": {
      "needs_background": "light"
     },
     "output_type": "display_data"
    }
   ],
   "source": [
    "\n",
    "plt.figure(figsize=(18, 27))\n",
    "for i,col in enumerate(df_num):\n",
    "    plt.subplot(4,6,i+1)\n",
    "    plt.title(col)\n",
    "    sns.boxplot(df[col])\n",
    "    "
   ]
  },
  {
   "cell_type": "code",
   "execution_count": 283,
   "id": "b5390bf9",
   "metadata": {},
   "outputs": [
    {
     "name": "stderr",
     "output_type": "stream",
     "text": [
      "C:\\Users\\Varun\\AppData\\Local\\Programs\\Python\\Python310\\lib\\site-packages\\seaborn\\distributions.py:2619: FutureWarning: `distplot` is a deprecated function and will be removed in a future version. Please adapt your code to use either `displot` (a figure-level function with similar flexibility) or `histplot` (an axes-level function for histograms).\n",
      "  warnings.warn(msg, FutureWarning)\n"
     ]
    },
    {
     "name": "stdout",
     "output_type": "stream",
     "text": [
      "1149.3644974029942\n"
     ]
    },
    {
     "data": {
      "image/png": "[encoded data removed]",
      "text/plain": [
       "<Figure size 432x288 with 1 Axes>"
      ]
     },
     "metadata": {
      "needs_background": "light"
     },
     "output_type": "display_data"
    }
   ],
   "source": [
    "sns.distplot(df['satscore'])\n",
    "print(df['satscore'].mean())"
   ]
  },
  {
   "cell_type": "code",
   "execution_count": 284,
   "id": "26f771cc",
   "metadata": {},
   "outputs": [
    {
     "name": "stderr",
     "output_type": "stream",
     "text": [
      "C:\\Users\\Varun\\AppData\\Local\\Programs\\Python\\Python310\\lib\\site-packages\\seaborn\\distributions.py:2619: FutureWarning: `distplot` is a deprecated function and will be removed in a future version. Please adapt your code to use either `displot` (a figure-level function with similar flexibility) or `histplot` (an axes-level function for histograms).\n",
      "  warnings.warn(msg, FutureWarning)\n"
     ]
    },
    {
     "data": {
      "text/plain": [
       "<AxesSubplot:xlabel='init_span', ylabel='Density'>"
      ]
     },
     "execution_count": 284,
     "metadata": {},
     "output_type": "execute_result"
    },
    {
     "data": {
      "image/png": "[encoded data removed]",
      "text/plain": [
       "<Figure size 432x288 with 1 Axes>"
      ]
     },
     "metadata": {
      "needs_background": "light"
     },
     "output_type": "display_data"
    }
   ],
   "source": [
    "sns.distplot(df['init_span'])"
   ]
  },
  {
   "cell_type": "code",
   "execution_count": 285,
   "id": "6f839d1e",
   "metadata": {},
   "outputs": [
    {
     "data": {
      "text/plain": [
       "335"
      ]
     },
     "execution_count": 285,
     "metadata": {},
     "output_type": "execute_result"
    }
   ],
   "source": [
    "len(df[df['distance']>1000])"
   ]
  },
  {
   "cell_type": "code",
   "execution_count": 286,
   "id": "283fdb52",
   "metadata": {},
   "outputs": [],
   "source": [
    "def impute(df,col):\n",
    "    q1=df[col].quantile(.75)\n",
    "    q2=df[col].quantile(.25)\n",
    "    gap=q1-q2\n",
    "    upper_edge=q1+1.5*gap\n",
    "    lower_edge=q2-1.5*gap\n",
    "    df.loc[df[col]>upper_edge,col]=upper_edge\n",
    "    df.loc[df[col]<lower_edge,col]=lower_edge\n",
    "    "
   ]
  },
  {
   "cell_type": "code",
   "execution_count": 287,
   "id": "7b63f31b",
   "metadata": {},
   "outputs": [],
   "source": [
    "out_rem=['avg_income','distance','hscrat','init_span','int1rat','int2rat','satscore']\n",
    "for col in out_rem:\n",
    "    impute(df,col)"
   ]
  },
  {
   "cell_type": "code",
   "execution_count": 288,
   "id": "dc9a0be2",
   "metadata": {},
   "outputs": [
    {
     "name": "stderr",
     "output_type": "stream",
     "text": [
      "C:\\Users\\Varun\\AppData\\Local\\Programs\\Python\\Python310\\lib\\site-packages\\seaborn\\_decorators.py:36: FutureWarning: Pass the following variable as a keyword arg: x. From version 0.12, the only valid positional argument will be `data`, and passing other arguments without an explicit keyword will result in an error or misinterpretation.\n",
      "  warnings.warn(\n",
      "C:\\Users\\Varun\\AppData\\Local\\Programs\\Python\\Python310\\lib\\site-packages\\seaborn\\_decorators.py:36: FutureWarning: Pass the following variable as a keyword arg: x. From version 0.12, the only valid positional argument will be `data`, and passing other arguments without an explicit keyword will result in an error or misinterpretation.\n",
      "  warnings.warn(\n",
      "C:\\Users\\Varun\\AppData\\Local\\Programs\\Python\\Python310\\lib\\site-packages\\seaborn\\_decorators.py:36: FutureWarning: Pass the following variable as a keyword arg: x. From version 0.12, the only valid positional argument will be `data`, and passing other arguments without an explicit keyword will result in an error or misinterpretation.\n",
      "  warnings.warn(\n",
      "C:\\Users\\Varun\\AppData\\Local\\Programs\\Python\\Python310\\lib\\site-packages\\seaborn\\_decorators.py:36: FutureWarning: Pass the following variable as a keyword arg: x. From version 0.12, the only valid positional argument will be `data`, and passing other arguments without an explicit keyword will result in an error or misinterpretation.\n",
      "  warnings.warn(\n",
      "C:\\Users\\Varun\\AppData\\Local\\Programs\\Python\\Python310\\lib\\site-packages\\seaborn\\_decorators.py:36: FutureWarning: Pass the following variable as a keyword arg: x. From version 0.12, the only valid positional argument will be `data`, and passing other arguments without an explicit keyword will result in an error or misinterpretation.\n",
      "  warnings.warn(\n",
      "C:\\Users\\Varun\\AppData\\Local\\Programs\\Python\\Python310\\lib\\site-packages\\seaborn\\_decorators.py:36: FutureWarning: Pass the following variable as a keyword arg: x. From version 0.12, the only valid positional argument will be `data`, and passing other arguments without an explicit keyword will result in an error or misinterpretation.\n",
      "  warnings.warn(\n",
      "C:\\Users\\Varun\\AppData\\Local\\Programs\\Python\\Python310\\lib\\site-packages\\seaborn\\_decorators.py:36: FutureWarning: Pass the following variable as a keyword arg: x. From version 0.12, the only valid positional argument will be `data`, and passing other arguments without an explicit keyword will result in an error or misinterpretation.\n",
      "  warnings.warn(\n",
      "C:\\Users\\Varun\\AppData\\Local\\Programs\\Python\\Python310\\lib\\site-packages\\seaborn\\_decorators.py:36: FutureWarning: Pass the following variable as a keyword arg: x. From version 0.12, the only valid positional argument will be `data`, and passing other arguments without an explicit keyword will result in an error or misinterpretation.\n",
      "  warnings.warn(\n",
      "C:\\Users\\Varun\\AppData\\Local\\Programs\\Python\\Python310\\lib\\site-packages\\seaborn\\_decorators.py:36: FutureWarning: Pass the following variable as a keyword arg: x. From version 0.12, the only valid positional argument will be `data`, and passing other arguments without an explicit keyword will result in an error or misinterpretation.\n",
      "  warnings.warn(\n",
      "C:\\Users\\Varun\\AppData\\Local\\Programs\\Python\\Python310\\lib\\site-packages\\seaborn\\_decorators.py:36: FutureWarning: Pass the following variable as a keyword arg: x. From version 0.12, the only valid positional argument will be `data`, and passing other arguments without an explicit keyword will result in an error or misinterpretation.\n",
      "  warnings.warn(\n",
      "C:\\Users\\Varun\\AppData\\Local\\Programs\\Python\\Python310\\lib\\site-packages\\seaborn\\_decorators.py:36: FutureWarning: Pass the following variable as a keyword arg: x. From version 0.12, the only valid positional argument will be `data`, and passing other arguments without an explicit keyword will result in an error or misinterpretation.\n",
      "  warnings.warn(\n",
      "C:\\Users\\Varun\\AppData\\Local\\Programs\\Python\\Python310\\lib\\site-packages\\seaborn\\_decorators.py:36: FutureWarning: Pass the following variable as a keyword arg: x. From version 0.12, the only valid positional argument will be `data`, and passing other arguments without an explicit keyword will result in an error or misinterpretation.\n",
      "  warnings.warn(\n",
      "C:\\Users\\Varun\\AppData\\Local\\Programs\\Python\\Python310\\lib\\site-packages\\seaborn\\_decorators.py:36: FutureWarning: Pass the following variable as a keyword arg: x. From version 0.12, the only valid positional argument will be `data`, and passing other arguments without an explicit keyword will result in an error or misinterpretation.\n",
      "  warnings.warn(\n",
      "C:\\Users\\Varun\\AppData\\Local\\Programs\\Python\\Python310\\lib\\site-packages\\seaborn\\_decorators.py:36: FutureWarning: Pass the following variable as a keyword arg: x. From version 0.12, the only valid positional argument will be `data`, and passing other arguments without an explicit keyword will result in an error or misinterpretation.\n",
      "  warnings.warn(\n",
      "C:\\Users\\Varun\\AppData\\Local\\Programs\\Python\\Python310\\lib\\site-packages\\seaborn\\_decorators.py:36: FutureWarning: Pass the following variable as a keyword arg: x. From version 0.12, the only valid positional argument will be `data`, and passing other arguments without an explicit keyword will result in an error or misinterpretation.\n",
      "  warnings.warn(\n",
      "C:\\Users\\Varun\\AppData\\Local\\Programs\\Python\\Python310\\lib\\site-packages\\seaborn\\_decorators.py:36: FutureWarning: Pass the following variable as a keyword arg: x. From version 0.12, the only valid positional argument will be `data`, and passing other arguments without an explicit keyword will result in an error or misinterpretation.\n",
      "  warnings.warn(\n",
      "C:\\Users\\Varun\\AppData\\Local\\Programs\\Python\\Python310\\lib\\site-packages\\seaborn\\_decorators.py:36: FutureWarning: Pass the following variable as a keyword arg: x. From version 0.12, the only valid positional argument will be `data`, and passing other arguments without an explicit keyword will result in an error or misinterpretation.\n",
      "  warnings.warn(\n",
      "C:\\Users\\Varun\\AppData\\Local\\Programs\\Python\\Python310\\lib\\site-packages\\seaborn\\_decorators.py:36: FutureWarning: Pass the following variable as a keyword arg: x. From version 0.12, the only valid positional argument will be `data`, and passing other arguments without an explicit keyword will result in an error or misinterpretation.\n",
      "  warnings.warn(\n",
      "C:\\Users\\Varun\\AppData\\Local\\Programs\\Python\\Python310\\lib\\site-packages\\seaborn\\_decorators.py:36: FutureWarning: Pass the following variable as a keyword arg: x. From version 0.12, the only valid positional argument will be `data`, and passing other arguments without an explicit keyword will result in an error or misinterpretation.\n",
      "  warnings.warn(\n",
      "C:\\Users\\Varun\\AppData\\Local\\Programs\\Python\\Python310\\lib\\site-packages\\seaborn\\_decorators.py:36: FutureWarning: Pass the following variable as a keyword arg: x. From version 0.12, the only valid positional argument will be `data`, and passing other arguments without an explicit keyword will result in an error or misinterpretation.\n",
      "  warnings.warn(\n",
      "C:\\Users\\Varun\\AppData\\Local\\Programs\\Python\\Python310\\lib\\site-packages\\seaborn\\_decorators.py:36: FutureWarning: Pass the following variable as a keyword arg: x. From version 0.12, the only valid positional argument will be `data`, and passing other arguments without an explicit keyword will result in an error or misinterpretation.\n",
      "  warnings.warn(\n"
     ]
    },
    {
     "data": {
      "image/png": "[encoded data removed]",
      "text/plain": [
       "<Figure size 1296x1944 with 21 Axes>"
      ]
     },
     "metadata": {
      "needs_background": "light"
     },
     "output_type": "display_data"
    }
   ],
   "source": [
    "\n",
    "plt.figure(figsize=(18, 27))\n",
    "for i,col in enumerate(df_num):\n",
    "    plt.subplot(4,6,i+1)\n",
    "    plt.title(col)\n",
    "    sns.boxplot(df[col])"
   ]
  },
  {
   "cell_type": "code",
   "execution_count": 289,
   "id": "b481ffca",
   "metadata": {},
   "outputs": [],
   "source": [
    "df.drop('Contact_Year',axis=1,inplace=True)"
   ]
  },
  {
   "cell_type": "code",
   "execution_count": 290,
   "id": "a49ade45",
   "metadata": {},
   "outputs": [
    {
     "data": {
      "text/plain": [
       "['avg_income',\n",
       " 'CONTACT_CODE1',\n",
       " 'distance',\n",
       " 'ETHNICITY',\n",
       " 'satscore',\n",
       " 'sex',\n",
       " 'telecq']"
      ]
     },
     "execution_count": 290,
     "metadata": {},
     "output_type": "execute_result"
    }
   ],
   "source": [
    "null_columns=[]\n",
    "for col in df:\n",
    "    if df[col].isnull().sum()!=0:\n",
    "        null_columns.append(col)\n",
    "null_columns"
   ]
  },
  {
   "cell_type": "code",
   "execution_count": 291,
   "id": "48afc8c7",
   "metadata": {},
   "outputs": [
    {
     "name": "stderr",
     "output_type": "stream",
     "text": [
      "C:\\Users\\Varun\\AppData\\Local\\Programs\\Python\\Python310\\lib\\site-packages\\seaborn\\distributions.py:2619: FutureWarning: `distplot` is a deprecated function and will be removed in a future version. Please adapt your code to use either `displot` (a figure-level function with similar flexibility) or `histplot` (an axes-level function for histograms).\n",
      "  warnings.warn(msg, FutureWarning)\n"
     ]
    },
    {
     "data": {
      "text/plain": [
       "<AxesSubplot:xlabel='telecq', ylabel='Density'>"
      ]
     },
     "execution_count": 291,
     "metadata": {},
     "output_type": "execute_result"
    },
    {
     "data": {
      "image/png": "[encoded data removed]",
      "text/plain": [
       "<Figure size 432x288 with 1 Axes>"
      ]
     },
     "metadata": {
      "needs_background": "light"
     },
     "output_type": "display_data"
    }
   ],
   "source": [
    "sns.distplot(df['telecq'])"
   ]
  },
  {
   "cell_type": "code",
   "execution_count": 292,
   "id": "0052ced5",
   "metadata": {},
   "outputs": [
    {
     "data": {
      "text/plain": [
       "0       53358.30596\n",
       "1       53358.30596\n",
       "2       53358.30596\n",
       "3       53358.30596\n",
       "4       53358.30596\n",
       "           ...     \n",
       "5155    42857.00000\n",
       "5156    42857.00000\n",
       "5157    42857.00000\n",
       "5158    28829.00000\n",
       "5159    53358.30596\n",
       "Name: avg_income, Length: 5131, dtype: float64"
      ]
     },
     "execution_count": 292,
     "metadata": {},
     "output_type": "execute_result"
    }
   ],
   "source": [
    "df['avg_income'].fillna(df['avg_income'].mean())"
   ]
  },
  {
   "cell_type": "code",
   "execution_count": 293,
   "id": "d197197e",
   "metadata": {},
   "outputs": [
    {
     "data": {
      "text/plain": [
       "735"
      ]
     },
     "execution_count": 293,
     "metadata": {},
     "output_type": "execute_result"
    }
   ],
   "source": [
    "df['avg_income'].isnull().sum()"
   ]
  },
  {
   "cell_type": "code",
   "execution_count": 294,
   "id": "984a4288",
   "metadata": {},
   "outputs": [],
   "source": [
    "def replacena(df,col):\n",
    "    df[col]=df[col].fillna(df[col].mean())"
   ]
  },
  {
   "cell_type": "code",
   "execution_count": 295,
   "id": "8cf52f10",
   "metadata": {},
   "outputs": [],
   "source": [
    "for col in ['avg_income','distance','satscore']:\n",
    "    replacena(df,col)"
   ]
  },
  {
   "cell_type": "code",
   "execution_count": 296,
   "id": "e977623b",
   "metadata": {
    "scrolled": true
   },
   "outputs": [
    {
     "name": "stderr",
     "output_type": "stream",
     "text": [
      "C:\\Users\\Varun\\AppData\\Local\\Programs\\Python\\Python310\\lib\\site-packages\\seaborn\\_decorators.py:36: FutureWarning: Pass the following variable as a keyword arg: x. From version 0.12, the only valid positional argument will be `data`, and passing other arguments without an explicit keyword will result in an error or misinterpretation.\n",
      "  warnings.warn(\n"
     ]
    },
    {
     "data": {
      "text/plain": [
       "<AxesSubplot:xlabel='ETHNICITY', ylabel='count'>"
      ]
     },
     "execution_count": 296,
     "metadata": {},
     "output_type": "execute_result"
    },
    {
     "data": {
      "image/png": "[encoded data removed]",
      "text/plain": [
       "<Figure size 432x288 with 1 Axes>"
      ]
     },
     "metadata": {
      "needs_background": "light"
     },
     "output_type": "display_data"
    }
   ],
   "source": [
    "sns.countplot(df['ETHNICITY'],hue=df['Target_Enroll'])"
   ]
  },
  {
   "cell_type": "code",
   "execution_count": 297,
   "id": "1b41d413",
   "metadata": {},
   "outputs": [
    {
     "data": {
      "text/plain": [
       "avg_income          0\n",
       "CONTACT_CODE1       5\n",
       "distance            0\n",
       "ETHNICITY         590\n",
       "satscore            0\n",
       "sex               127\n",
       "telecq           3026\n",
       "dtype: int64"
      ]
     },
     "execution_count": 297,
     "metadata": {},
     "output_type": "execute_result"
    }
   ],
   "source": [
    "df[null_columns].isnull().sum()"
   ]
  },
  {
   "cell_type": "code",
   "execution_count": 298,
   "id": "328039b9",
   "metadata": {},
   "outputs": [
    {
     "name": "stderr",
     "output_type": "stream",
     "text": [
      "C:\\Users\\Varun\\AppData\\Local\\Programs\\Python\\Python310\\lib\\site-packages\\seaborn\\_decorators.py:36: FutureWarning: Pass the following variable as a keyword arg: x. From version 0.12, the only valid positional argument will be `data`, and passing other arguments without an explicit keyword will result in an error or misinterpretation.\n",
      "  warnings.warn(\n"
     ]
    },
    {
     "data": {
      "text/plain": [
       "<AxesSubplot:xlabel='telecq', ylabel='count'>"
      ]
     },
     "execution_count": 298,
     "metadata": {},
     "output_type": "execute_result"
    },
    {
     "data": {
      "image/png": "[encoded data removed]",
      "text/plain": [
       "<Figure size 432x288 with 1 Axes>"
      ]
     },
     "metadata": {
      "needs_background": "light"
     },
     "output_type": "display_data"
    }
   ],
   "source": [
    "sns.countplot(df['telecq'],hue=df['Target_Enroll'])"
   ]
  },
  {
   "cell_type": "code",
   "execution_count": 299,
   "id": "58aa1389",
   "metadata": {},
   "outputs": [],
   "source": [
    "df.drop('telecq',axis=1,inplace=True) #too many null values"
   ]
  },
  {
   "cell_type": "code",
   "execution_count": 300,
   "id": "d7232032",
   "metadata": {},
   "outputs": [],
   "source": [
    "df[\"sex\"]=df[\"sex\"].fillna(df[\"sex\"].value_counts().index[0])"
   ]
  },
  {
   "cell_type": "code",
   "execution_count": 301,
   "id": "44487c78",
   "metadata": {},
   "outputs": [],
   "source": [
    "df[\"ETHNICITY\"]=df[\"ETHNICITY\"].fillna(df[\"ETHNICITY\"].value_counts().index[0])"
   ]
  },
  {
   "cell_type": "code",
   "execution_count": 302,
   "id": "825883f1",
   "metadata": {},
   "outputs": [
    {
     "name": "stderr",
     "output_type": "stream",
     "text": [
      "C:\\Users\\Varun\\AppData\\Local\\Programs\\Python\\Python310\\lib\\site-packages\\seaborn\\_decorators.py:36: FutureWarning: Pass the following variable as a keyword arg: x. From version 0.12, the only valid positional argument will be `data`, and passing other arguments without an explicit keyword will result in an error or misinterpretation.\n",
      "  warnings.warn(\n"
     ]
    },
    {
     "data": {
      "text/plain": [
       "<AxesSubplot:xlabel='ETHNICITY', ylabel='count'>"
      ]
     },
     "execution_count": 302,
     "metadata": {},
     "output_type": "execute_result"
    },
    {
     "data": {
      "image/png": "[encoded data removed]",
      "text/plain": [
       "<Figure size 432x288 with 1 Axes>"
      ]
     },
     "metadata": {
      "needs_background": "light"
     },
     "output_type": "display_data"
    }
   ],
   "source": [
    "sns.countplot(df['ETHNICITY'],hue=df['Target_Enroll'])"
   ]
  },
  {
   "cell_type": "code",
   "execution_count": 303,
   "id": "6ac26c18",
   "metadata": {},
   "outputs": [
    {
     "data": {
      "text/plain": [
       "C    3232\n",
       "H     556\n",
       "N     450\n",
       "B     431\n",
       "A     293\n",
       "O     138\n",
       "I      31\n",
       "Name: ETHNICITY, dtype: int64"
      ]
     },
     "execution_count": 303,
     "metadata": {},
     "output_type": "execute_result"
    }
   ],
   "source": [
    "df['ETHNICITY'].value_counts()"
   ]
  },
  {
   "cell_type": "code",
   "execution_count": 304,
   "id": "c7a6ca8a",
   "metadata": {},
   "outputs": [],
   "source": [
    "null_columns.remove('telecq')"
   ]
  },
  {
   "cell_type": "code",
   "execution_count": 305,
   "id": "e24c5f04",
   "metadata": {},
   "outputs": [
    {
     "data": {
      "text/plain": [
       "avg_income       0\n",
       "CONTACT_CODE1    5\n",
       "distance         0\n",
       "ETHNICITY        0\n",
       "satscore         0\n",
       "sex              0\n",
       "dtype: int64"
      ]
     },
     "execution_count": 305,
     "metadata": {},
     "output_type": "execute_result"
    }
   ],
   "source": [
    "df[null_columns].isnull().sum()"
   ]
  },
  {
   "cell_type": "code",
   "execution_count": 306,
   "id": "56c6e4bd",
   "metadata": {},
   "outputs": [
    {
     "data": {
      "text/plain": [
       "0    1.0\n",
       "Name: sex, dtype: float64"
      ]
     },
     "execution_count": 306,
     "metadata": {},
     "output_type": "execute_result"
    }
   ],
   "source": [
    "df[\"sex\"].mode()"
   ]
  },
  {
   "cell_type": "code",
   "execution_count": 307,
   "id": "4fe9e717",
   "metadata": {},
   "outputs": [
    {
     "data": {
      "text/plain": [
       "CIP    947\n",
       "SAT    588\n",
       "LMI    390\n",
       "ACT    287\n",
       "LMA    236\n",
       "      ... \n",
       "CTL      1\n",
       "A01      1\n",
       "SCC      1\n",
       "SIG      1\n",
       "RFA      1\n",
       "Name: CONTACT_CODE1, Length: 88, dtype: int64"
      ]
     },
     "execution_count": 307,
     "metadata": {},
     "output_type": "execute_result"
    }
   ],
   "source": [
    "df[\"CONTACT_CODE1\"].value_counts()"
   ]
  },
  {
   "cell_type": "code",
   "execution_count": 308,
   "id": "2fb38405",
   "metadata": {},
   "outputs": [],
   "source": [
    "df[\"CONTACT_CODE1\"]=df[\"CONTACT_CODE1\"].fillna(df[\"CONTACT_CODE1\"].value_counts().index[0])"
   ]
  },
  {
   "cell_type": "code",
   "execution_count": 309,
   "id": "b7d288ea",
   "metadata": {},
   "outputs": [
    {
     "data": {
      "text/plain": [
       "['CONTACT_CODE1', 'Contact_Month', 'ETHNICITY', 'Instate', 'TERRITORY']"
      ]
     },
     "execution_count": 309,
     "metadata": {},
     "output_type": "execute_result"
    }
   ],
   "source": [
    "df_obj\n"
   ]
  },
  {
   "cell_type": "code",
   "execution_count": 310,
   "id": "a798b2e8",
   "metadata": {},
   "outputs": [
    {
     "data": {
      "text/plain": [
       "Y    3688\n",
       "N    1443\n",
       "Name: Instate, dtype: int64"
      ]
     },
     "execution_count": 310,
     "metadata": {},
     "output_type": "execute_result"
    }
   ],
   "source": [
    "df['Instate'].value_counts()"
   ]
  },
  {
   "cell_type": "code",
   "execution_count": 311,
   "id": "a895e678",
   "metadata": {},
   "outputs": [
    {
     "data": {
      "text/plain": [
       "0"
      ]
     },
     "execution_count": 311,
     "metadata": {},
     "output_type": "execute_result"
    }
   ],
   "source": [
    "df['sex'].isnull().sum()"
   ]
  },
  {
   "cell_type": "code",
   "execution_count": 313,
   "id": "38e8c1ce",
   "metadata": {},
   "outputs": [
    {
     "data": {
      "text/plain": [
       "avg_income            0\n",
       "CAMPUS_VISIT          0\n",
       "CONTACT_CODE1         0\n",
       "Contact_Date          0\n",
       "Contact_Month         0\n",
       "distance              0\n",
       "Target_Enroll         0\n",
       "ETHNICITY             0\n",
       "hscrat                0\n",
       "init_span             0\n",
       "Instate               0\n",
       "int1rat               0\n",
       "int2rat               0\n",
       "interest              0\n",
       "mailq                 0\n",
       "premiere              0\n",
       "REFERRAL_CNTCTS       0\n",
       "satscore              0\n",
       "SELF_INIT_CNTCTS      0\n",
       "sex                   0\n",
       "SOLICITED_CNTCTS      0\n",
       "TERRITORY             0\n",
       "TOTAL_CONTACTS        0\n",
       "TRAVEL_INIT_CNTCTS    0\n",
       "dtype: int64"
      ]
     },
     "execution_count": 313,
     "metadata": {},
     "output_type": "execute_result"
    }
   ],
   "source": [
    "df.isnull().sum()"
   ]
  },
  {
   "cell_type": "code",
   "execution_count": 320,
   "id": "3d1499b2",
   "metadata": {},
   "outputs": [],
   "source": [
    "data=df"
   ]
  },
  {
   "cell_type": "code",
   "execution_count": 321,
   "id": "e0bb42c6",
   "metadata": {},
   "outputs": [
    {
     "data": {
      "text/html": [
       "<div>\n",
       "<style scoped>\n",
       "    .dataframe tbody tr th:only-of-type {\n",
       "        vertical-align: middle;\n",
       "    }\n",
       "\n",
       "    .dataframe tbody tr th {\n",
       "        vertical-align: top;\n",
       "    }\n",
       "\n",
       "    .dataframe thead th {\n",
       "        text-align: right;\n",
       "    }\n",
       "</style>\n",
       "<table border=\"1\" class=\"dataframe\">\n",
       "  <thead>\n",
       "    <tr style=\"text-align: right;\">\n",
       "      <th></th>\n",
       "      <th>Apr</th>\n",
       "      <th>Aug</th>\n",
       "      <th>Dec</th>\n",
       "      <th>Feb</th>\n",
       "      <th>Jan</th>\n",
       "      <th>Jul</th>\n",
       "      <th>Jun</th>\n",
       "      <th>Mar</th>\n",
       "      <th>May</th>\n",
       "      <th>Nov</th>\n",
       "      <th>Oct</th>\n",
       "      <th>Sep</th>\n",
       "    </tr>\n",
       "  </thead>\n",
       "  <tbody>\n",
       "    <tr>\n",
       "      <th>0</th>\n",
       "      <td>0</td>\n",
       "      <td>0</td>\n",
       "      <td>0</td>\n",
       "      <td>0</td>\n",
       "      <td>0</td>\n",
       "      <td>0</td>\n",
       "      <td>0</td>\n",
       "      <td>0</td>\n",
       "      <td>0</td>\n",
       "      <td>0</td>\n",
       "      <td>0</td>\n",
       "      <td>1</td>\n",
       "    </tr>\n",
       "    <tr>\n",
       "      <th>1</th>\n",
       "      <td>0</td>\n",
       "      <td>0</td>\n",
       "      <td>0</td>\n",
       "      <td>1</td>\n",
       "      <td>0</td>\n",
       "      <td>0</td>\n",
       "      <td>0</td>\n",
       "      <td>0</td>\n",
       "      <td>0</td>\n",
       "      <td>0</td>\n",
       "      <td>0</td>\n",
       "      <td>0</td>\n",
       "    </tr>\n",
       "    <tr>\n",
       "      <th>2</th>\n",
       "      <td>0</td>\n",
       "      <td>0</td>\n",
       "      <td>0</td>\n",
       "      <td>0</td>\n",
       "      <td>1</td>\n",
       "      <td>0</td>\n",
       "      <td>0</td>\n",
       "      <td>0</td>\n",
       "      <td>0</td>\n",
       "      <td>0</td>\n",
       "      <td>0</td>\n",
       "      <td>0</td>\n",
       "    </tr>\n",
       "    <tr>\n",
       "      <th>3</th>\n",
       "      <td>0</td>\n",
       "      <td>0</td>\n",
       "      <td>0</td>\n",
       "      <td>0</td>\n",
       "      <td>0</td>\n",
       "      <td>0</td>\n",
       "      <td>0</td>\n",
       "      <td>1</td>\n",
       "      <td>0</td>\n",
       "      <td>0</td>\n",
       "      <td>0</td>\n",
       "      <td>0</td>\n",
       "    </tr>\n",
       "    <tr>\n",
       "      <th>4</th>\n",
       "      <td>0</td>\n",
       "      <td>0</td>\n",
       "      <td>0</td>\n",
       "      <td>0</td>\n",
       "      <td>0</td>\n",
       "      <td>0</td>\n",
       "      <td>0</td>\n",
       "      <td>1</td>\n",
       "      <td>0</td>\n",
       "      <td>0</td>\n",
       "      <td>0</td>\n",
       "      <td>0</td>\n",
       "    </tr>\n",
       "    <tr>\n",
       "      <th>...</th>\n",
       "      <td>...</td>\n",
       "      <td>...</td>\n",
       "      <td>...</td>\n",
       "      <td>...</td>\n",
       "      <td>...</td>\n",
       "      <td>...</td>\n",
       "      <td>...</td>\n",
       "      <td>...</td>\n",
       "      <td>...</td>\n",
       "      <td>...</td>\n",
       "      <td>...</td>\n",
       "      <td>...</td>\n",
       "    </tr>\n",
       "    <tr>\n",
       "      <th>5155</th>\n",
       "      <td>0</td>\n",
       "      <td>0</td>\n",
       "      <td>1</td>\n",
       "      <td>0</td>\n",
       "      <td>0</td>\n",
       "      <td>0</td>\n",
       "      <td>0</td>\n",
       "      <td>0</td>\n",
       "      <td>0</td>\n",
       "      <td>0</td>\n",
       "      <td>0</td>\n",
       "      <td>0</td>\n",
       "    </tr>\n",
       "    <tr>\n",
       "      <th>5156</th>\n",
       "      <td>0</td>\n",
       "      <td>0</td>\n",
       "      <td>0</td>\n",
       "      <td>0</td>\n",
       "      <td>0</td>\n",
       "      <td>0</td>\n",
       "      <td>0</td>\n",
       "      <td>0</td>\n",
       "      <td>0</td>\n",
       "      <td>0</td>\n",
       "      <td>1</td>\n",
       "      <td>0</td>\n",
       "    </tr>\n",
       "    <tr>\n",
       "      <th>5157</th>\n",
       "      <td>0</td>\n",
       "      <td>0</td>\n",
       "      <td>1</td>\n",
       "      <td>0</td>\n",
       "      <td>0</td>\n",
       "      <td>0</td>\n",
       "      <td>0</td>\n",
       "      <td>0</td>\n",
       "      <td>0</td>\n",
       "      <td>0</td>\n",
       "      <td>0</td>\n",
       "      <td>0</td>\n",
       "    </tr>\n",
       "    <tr>\n",
       "      <th>5158</th>\n",
       "      <td>0</td>\n",
       "      <td>0</td>\n",
       "      <td>0</td>\n",
       "      <td>1</td>\n",
       "      <td>0</td>\n",
       "      <td>0</td>\n",
       "      <td>0</td>\n",
       "      <td>0</td>\n",
       "      <td>0</td>\n",
       "      <td>0</td>\n",
       "      <td>0</td>\n",
       "      <td>0</td>\n",
       "    </tr>\n",
       "    <tr>\n",
       "      <th>5159</th>\n",
       "      <td>0</td>\n",
       "      <td>0</td>\n",
       "      <td>0</td>\n",
       "      <td>0</td>\n",
       "      <td>0</td>\n",
       "      <td>0</td>\n",
       "      <td>0</td>\n",
       "      <td>0</td>\n",
       "      <td>0</td>\n",
       "      <td>0</td>\n",
       "      <td>1</td>\n",
       "      <td>0</td>\n",
       "    </tr>\n",
       "  </tbody>\n",
       "</table>\n",
       "<p>5131 rows × 12 columns</p>\n",
       "</div>"
      ],
      "text/plain": [
       "      Apr  Aug  Dec  Feb  Jan  Jul  Jun  Mar  May  Nov  Oct  Sep\n",
       "0       0    0    0    0    0    0    0    0    0    0    0    1\n",
       "1       0    0    0    1    0    0    0    0    0    0    0    0\n",
       "2       0    0    0    0    1    0    0    0    0    0    0    0\n",
       "3       0    0    0    0    0    0    0    1    0    0    0    0\n",
       "4       0    0    0    0    0    0    0    1    0    0    0    0\n",
       "...   ...  ...  ...  ...  ...  ...  ...  ...  ...  ...  ...  ...\n",
       "5155    0    0    1    0    0    0    0    0    0    0    0    0\n",
       "5156    0    0    0    0    0    0    0    0    0    0    1    0\n",
       "5157    0    0    1    0    0    0    0    0    0    0    0    0\n",
       "5158    0    0    0    1    0    0    0    0    0    0    0    0\n",
       "5159    0    0    0    0    0    0    0    0    0    0    1    0\n",
       "\n",
       "[5131 rows x 12 columns]"
      ]
     },
     "execution_count": 321,
     "metadata": {},
     "output_type": "execute_result"
    }
   ],
   "source": [
    "month_encoded=pd.get_dummies(data[\"Contact_Month\"])\n",
    "month_encoded\n"
   ]
  },
  {
   "cell_type": "code",
   "execution_count": 323,
   "id": "bd1adeac",
   "metadata": {},
   "outputs": [
    {
     "data": {
      "text/html": [
       "<div>\n",
       "<style scoped>\n",
       "    .dataframe tbody tr th:only-of-type {\n",
       "        vertical-align: middle;\n",
       "    }\n",
       "\n",
       "    .dataframe tbody tr th {\n",
       "        vertical-align: top;\n",
       "    }\n",
       "\n",
       "    .dataframe thead th {\n",
       "        text-align: right;\n",
       "    }\n",
       "</style>\n",
       "<table border=\"1\" class=\"dataframe\">\n",
       "  <thead>\n",
       "    <tr style=\"text-align: right;\">\n",
       "      <th></th>\n",
       "      <th>avg_income</th>\n",
       "      <th>CAMPUS_VISIT</th>\n",
       "      <th>CONTACT_CODE1</th>\n",
       "      <th>Contact_Date</th>\n",
       "      <th>Contact_Month</th>\n",
       "      <th>distance</th>\n",
       "      <th>Target_Enroll</th>\n",
       "      <th>ETHNICITY</th>\n",
       "      <th>hscrat</th>\n",
       "      <th>init_span</th>\n",
       "      <th>Instate</th>\n",
       "      <th>int1rat</th>\n",
       "      <th>int2rat</th>\n",
       "      <th>interest</th>\n",
       "      <th>mailq</th>\n",
       "      <th>premiere</th>\n",
       "      <th>REFERRAL_CNTCTS</th>\n",
       "      <th>satscore</th>\n",
       "      <th>SELF_INIT_CNTCTS</th>\n",
       "      <th>sex</th>\n",
       "      <th>SOLICITED_CNTCTS</th>\n",
       "      <th>TERRITORY</th>\n",
       "      <th>TOTAL_CONTACTS</th>\n",
       "      <th>TRAVEL_INIT_CNTCTS</th>\n",
       "      <th>Apr</th>\n",
       "      <th>Aug</th>\n",
       "      <th>Dec</th>\n",
       "      <th>Feb</th>\n",
       "      <th>Jan</th>\n",
       "      <th>Jul</th>\n",
       "      <th>Jun</th>\n",
       "      <th>Mar</th>\n",
       "      <th>May</th>\n",
       "      <th>Nov</th>\n",
       "      <th>Oct</th>\n",
       "      <th>Sep</th>\n",
       "    </tr>\n",
       "  </thead>\n",
       "  <tbody>\n",
       "    <tr>\n",
       "      <th>0</th>\n",
       "      <td>53358.30596</td>\n",
       "      <td>0</td>\n",
       "      <td>EML</td>\n",
       "      <td>1</td>\n",
       "      <td>Sep</td>\n",
       "      <td>270.649474</td>\n",
       "      <td>0</td>\n",
       "      <td>C</td>\n",
       "      <td>0.037652</td>\n",
       "      <td>39.5</td>\n",
       "      <td>N</td>\n",
       "      <td>0.017183</td>\n",
       "      <td>0.020380</td>\n",
       "      <td>0</td>\n",
       "      <td>5</td>\n",
       "      <td>0</td>\n",
       "      <td>0</td>\n",
       "      <td>1150.036664</td>\n",
       "      <td>1</td>\n",
       "      <td>1.0</td>\n",
       "      <td>0</td>\n",
       "      <td>N</td>\n",
       "      <td>1</td>\n",
       "      <td>0</td>\n",
       "      <td>0</td>\n",
       "      <td>0</td>\n",
       "      <td>0</td>\n",
       "      <td>0</td>\n",
       "      <td>0</td>\n",
       "      <td>0</td>\n",
       "      <td>0</td>\n",
       "      <td>0</td>\n",
       "      <td>0</td>\n",
       "      <td>0</td>\n",
       "      <td>0</td>\n",
       "      <td>1</td>\n",
       "    </tr>\n",
       "    <tr>\n",
       "      <th>1</th>\n",
       "      <td>53358.30596</td>\n",
       "      <td>0</td>\n",
       "      <td>SAT</td>\n",
       "      <td>12</td>\n",
       "      <td>Feb</td>\n",
       "      <td>270.649474</td>\n",
       "      <td>0</td>\n",
       "      <td>N</td>\n",
       "      <td>0.037652</td>\n",
       "      <td>31.0</td>\n",
       "      <td>N</td>\n",
       "      <td>0.017183</td>\n",
       "      <td>0.020380</td>\n",
       "      <td>0</td>\n",
       "      <td>5</td>\n",
       "      <td>0</td>\n",
       "      <td>0</td>\n",
       "      <td>1150.036664</td>\n",
       "      <td>1</td>\n",
       "      <td>1.0</td>\n",
       "      <td>0</td>\n",
       "      <td>N</td>\n",
       "      <td>1</td>\n",
       "      <td>0</td>\n",
       "      <td>0</td>\n",
       "      <td>0</td>\n",
       "      <td>0</td>\n",
       "      <td>1</td>\n",
       "      <td>0</td>\n",
       "      <td>0</td>\n",
       "      <td>0</td>\n",
       "      <td>0</td>\n",
       "      <td>0</td>\n",
       "      <td>0</td>\n",
       "      <td>0</td>\n",
       "      <td>0</td>\n",
       "    </tr>\n",
       "    <tr>\n",
       "      <th>2</th>\n",
       "      <td>53358.30596</td>\n",
       "      <td>0</td>\n",
       "      <td>C01</td>\n",
       "      <td>16</td>\n",
       "      <td>Jan</td>\n",
       "      <td>270.649474</td>\n",
       "      <td>0</td>\n",
       "      <td>C</td>\n",
       "      <td>0.037652</td>\n",
       "      <td>20.0</td>\n",
       "      <td>N</td>\n",
       "      <td>0.017183</td>\n",
       "      <td>0.020380</td>\n",
       "      <td>0</td>\n",
       "      <td>5</td>\n",
       "      <td>0</td>\n",
       "      <td>0</td>\n",
       "      <td>1150.036664</td>\n",
       "      <td>0</td>\n",
       "      <td>1.0</td>\n",
       "      <td>1</td>\n",
       "      <td>N</td>\n",
       "      <td>1</td>\n",
       "      <td>0</td>\n",
       "      <td>0</td>\n",
       "      <td>0</td>\n",
       "      <td>0</td>\n",
       "      <td>0</td>\n",
       "      <td>1</td>\n",
       "      <td>0</td>\n",
       "      <td>0</td>\n",
       "      <td>0</td>\n",
       "      <td>0</td>\n",
       "      <td>0</td>\n",
       "      <td>0</td>\n",
       "      <td>0</td>\n",
       "    </tr>\n",
       "    <tr>\n",
       "      <th>3</th>\n",
       "      <td>53358.30596</td>\n",
       "      <td>0</td>\n",
       "      <td>EML</td>\n",
       "      <td>11</td>\n",
       "      <td>Mar</td>\n",
       "      <td>270.649474</td>\n",
       "      <td>0</td>\n",
       "      <td>C</td>\n",
       "      <td>0.037652</td>\n",
       "      <td>18.0</td>\n",
       "      <td>N</td>\n",
       "      <td>0.017183</td>\n",
       "      <td>0.020380</td>\n",
       "      <td>0</td>\n",
       "      <td>5</td>\n",
       "      <td>0</td>\n",
       "      <td>0</td>\n",
       "      <td>1150.036664</td>\n",
       "      <td>1</td>\n",
       "      <td>0.0</td>\n",
       "      <td>0</td>\n",
       "      <td>N</td>\n",
       "      <td>1</td>\n",
       "      <td>0</td>\n",
       "      <td>0</td>\n",
       "      <td>0</td>\n",
       "      <td>0</td>\n",
       "      <td>0</td>\n",
       "      <td>0</td>\n",
       "      <td>0</td>\n",
       "      <td>0</td>\n",
       "      <td>1</td>\n",
       "      <td>0</td>\n",
       "      <td>0</td>\n",
       "      <td>0</td>\n",
       "      <td>0</td>\n",
       "    </tr>\n",
       "    <tr>\n",
       "      <th>4</th>\n",
       "      <td>53358.30596</td>\n",
       "      <td>0</td>\n",
       "      <td>TFL</td>\n",
       "      <td>28</td>\n",
       "      <td>Mar</td>\n",
       "      <td>270.649474</td>\n",
       "      <td>0</td>\n",
       "      <td>B</td>\n",
       "      <td>0.037652</td>\n",
       "      <td>18.0</td>\n",
       "      <td>N</td>\n",
       "      <td>0.017183</td>\n",
       "      <td>0.020380</td>\n",
       "      <td>0</td>\n",
       "      <td>5</td>\n",
       "      <td>0</td>\n",
       "      <td>0</td>\n",
       "      <td>1090.000000</td>\n",
       "      <td>2</td>\n",
       "      <td>1.0</td>\n",
       "      <td>0</td>\n",
       "      <td>N</td>\n",
       "      <td>2</td>\n",
       "      <td>0</td>\n",
       "      <td>0</td>\n",
       "      <td>0</td>\n",
       "      <td>0</td>\n",
       "      <td>0</td>\n",
       "      <td>0</td>\n",
       "      <td>0</td>\n",
       "      <td>0</td>\n",
       "      <td>1</td>\n",
       "      <td>0</td>\n",
       "      <td>0</td>\n",
       "      <td>0</td>\n",
       "      <td>0</td>\n",
       "    </tr>\n",
       "    <tr>\n",
       "      <th>...</th>\n",
       "      <td>...</td>\n",
       "      <td>...</td>\n",
       "      <td>...</td>\n",
       "      <td>...</td>\n",
       "      <td>...</td>\n",
       "      <td>...</td>\n",
       "      <td>...</td>\n",
       "      <td>...</td>\n",
       "      <td>...</td>\n",
       "      <td>...</td>\n",
       "      <td>...</td>\n",
       "      <td>...</td>\n",
       "      <td>...</td>\n",
       "      <td>...</td>\n",
       "      <td>...</td>\n",
       "      <td>...</td>\n",
       "      <td>...</td>\n",
       "      <td>...</td>\n",
       "      <td>...</td>\n",
       "      <td>...</td>\n",
       "      <td>...</td>\n",
       "      <td>...</td>\n",
       "      <td>...</td>\n",
       "      <td>...</td>\n",
       "      <td>...</td>\n",
       "      <td>...</td>\n",
       "      <td>...</td>\n",
       "      <td>...</td>\n",
       "      <td>...</td>\n",
       "      <td>...</td>\n",
       "      <td>...</td>\n",
       "      <td>...</td>\n",
       "      <td>...</td>\n",
       "      <td>...</td>\n",
       "      <td>...</td>\n",
       "      <td>...</td>\n",
       "    </tr>\n",
       "    <tr>\n",
       "      <th>5155</th>\n",
       "      <td>42857.00000</td>\n",
       "      <td>0</td>\n",
       "      <td>CIP</td>\n",
       "      <td>19</td>\n",
       "      <td>Dec</td>\n",
       "      <td>544.690969</td>\n",
       "      <td>0</td>\n",
       "      <td>H</td>\n",
       "      <td>0.018182</td>\n",
       "      <td>21.0</td>\n",
       "      <td>Y</td>\n",
       "      <td>0.052247</td>\n",
       "      <td>0.074324</td>\n",
       "      <td>0</td>\n",
       "      <td>2</td>\n",
       "      <td>0</td>\n",
       "      <td>0</td>\n",
       "      <td>1150.036664</td>\n",
       "      <td>0</td>\n",
       "      <td>1.0</td>\n",
       "      <td>0</td>\n",
       "      <td>5</td>\n",
       "      <td>1</td>\n",
       "      <td>1</td>\n",
       "      <td>0</td>\n",
       "      <td>0</td>\n",
       "      <td>1</td>\n",
       "      <td>0</td>\n",
       "      <td>0</td>\n",
       "      <td>0</td>\n",
       "      <td>0</td>\n",
       "      <td>0</td>\n",
       "      <td>0</td>\n",
       "      <td>0</td>\n",
       "      <td>0</td>\n",
       "      <td>0</td>\n",
       "    </tr>\n",
       "    <tr>\n",
       "      <th>5156</th>\n",
       "      <td>42857.00000</td>\n",
       "      <td>0</td>\n",
       "      <td>CIP</td>\n",
       "      <td>15</td>\n",
       "      <td>Oct</td>\n",
       "      <td>544.690969</td>\n",
       "      <td>0</td>\n",
       "      <td>C</td>\n",
       "      <td>0.000000</td>\n",
       "      <td>11.0</td>\n",
       "      <td>Y</td>\n",
       "      <td>0.049270</td>\n",
       "      <td>0.056670</td>\n",
       "      <td>0</td>\n",
       "      <td>2</td>\n",
       "      <td>0</td>\n",
       "      <td>0</td>\n",
       "      <td>1150.036664</td>\n",
       "      <td>1</td>\n",
       "      <td>1.0</td>\n",
       "      <td>0</td>\n",
       "      <td>5</td>\n",
       "      <td>2</td>\n",
       "      <td>1</td>\n",
       "      <td>0</td>\n",
       "      <td>0</td>\n",
       "      <td>0</td>\n",
       "      <td>0</td>\n",
       "      <td>0</td>\n",
       "      <td>0</td>\n",
       "      <td>0</td>\n",
       "      <td>0</td>\n",
       "      <td>0</td>\n",
       "      <td>0</td>\n",
       "      <td>1</td>\n",
       "      <td>0</td>\n",
       "    </tr>\n",
       "    <tr>\n",
       "      <th>5157</th>\n",
       "      <td>42857.00000</td>\n",
       "      <td>0</td>\n",
       "      <td>CIP</td>\n",
       "      <td>21</td>\n",
       "      <td>Dec</td>\n",
       "      <td>544.690969</td>\n",
       "      <td>0</td>\n",
       "      <td>N</td>\n",
       "      <td>0.016949</td>\n",
       "      <td>21.0</td>\n",
       "      <td>Y</td>\n",
       "      <td>0.020906</td>\n",
       "      <td>0.056670</td>\n",
       "      <td>0</td>\n",
       "      <td>1</td>\n",
       "      <td>0</td>\n",
       "      <td>0</td>\n",
       "      <td>1150.036664</td>\n",
       "      <td>1</td>\n",
       "      <td>1.0</td>\n",
       "      <td>0</td>\n",
       "      <td>5</td>\n",
       "      <td>2</td>\n",
       "      <td>1</td>\n",
       "      <td>0</td>\n",
       "      <td>0</td>\n",
       "      <td>1</td>\n",
       "      <td>0</td>\n",
       "      <td>0</td>\n",
       "      <td>0</td>\n",
       "      <td>0</td>\n",
       "      <td>0</td>\n",
       "      <td>0</td>\n",
       "      <td>0</td>\n",
       "      <td>0</td>\n",
       "      <td>0</td>\n",
       "    </tr>\n",
       "    <tr>\n",
       "      <th>5158</th>\n",
       "      <td>28829.00000</td>\n",
       "      <td>0</td>\n",
       "      <td>LMI</td>\n",
       "      <td>18</td>\n",
       "      <td>Feb</td>\n",
       "      <td>532.482719</td>\n",
       "      <td>1</td>\n",
       "      <td>H</td>\n",
       "      <td>0.016949</td>\n",
       "      <td>19.0</td>\n",
       "      <td>Y</td>\n",
       "      <td>0.052353</td>\n",
       "      <td>0.062907</td>\n",
       "      <td>0</td>\n",
       "      <td>1</td>\n",
       "      <td>0</td>\n",
       "      <td>0</td>\n",
       "      <td>1200.000000</td>\n",
       "      <td>7</td>\n",
       "      <td>0.0</td>\n",
       "      <td>1</td>\n",
       "      <td>5</td>\n",
       "      <td>8</td>\n",
       "      <td>0</td>\n",
       "      <td>0</td>\n",
       "      <td>0</td>\n",
       "      <td>0</td>\n",
       "      <td>1</td>\n",
       "      <td>0</td>\n",
       "      <td>0</td>\n",
       "      <td>0</td>\n",
       "      <td>0</td>\n",
       "      <td>0</td>\n",
       "      <td>0</td>\n",
       "      <td>0</td>\n",
       "      <td>0</td>\n",
       "    </tr>\n",
       "    <tr>\n",
       "      <th>5159</th>\n",
       "      <td>53358.30596</td>\n",
       "      <td>0</td>\n",
       "      <td>CIP</td>\n",
       "      <td>15</td>\n",
       "      <td>Oct</td>\n",
       "      <td>555.863190</td>\n",
       "      <td>0</td>\n",
       "      <td>H</td>\n",
       "      <td>0.000000</td>\n",
       "      <td>11.0</td>\n",
       "      <td>Y</td>\n",
       "      <td>0.049270</td>\n",
       "      <td>0.056670</td>\n",
       "      <td>0</td>\n",
       "      <td>5</td>\n",
       "      <td>0</td>\n",
       "      <td>0</td>\n",
       "      <td>1150.036664</td>\n",
       "      <td>1</td>\n",
       "      <td>0.0</td>\n",
       "      <td>0</td>\n",
       "      <td>8</td>\n",
       "      <td>2</td>\n",
       "      <td>1</td>\n",
       "      <td>0</td>\n",
       "      <td>0</td>\n",
       "      <td>0</td>\n",
       "      <td>0</td>\n",
       "      <td>0</td>\n",
       "      <td>0</td>\n",
       "      <td>0</td>\n",
       "      <td>0</td>\n",
       "      <td>0</td>\n",
       "      <td>0</td>\n",
       "      <td>1</td>\n",
       "      <td>0</td>\n",
       "    </tr>\n",
       "  </tbody>\n",
       "</table>\n",
       "<p>5131 rows × 36 columns</p>\n",
       "</div>"
      ],
      "text/plain": [
       "       avg_income  CAMPUS_VISIT CONTACT_CODE1  Contact_Date Contact_Month  \\\n",
       "0     53358.30596             0           EML             1           Sep   \n",
       "1     53358.30596             0           SAT            12           Feb   \n",
       "2     53358.30596             0           C01            16           Jan   \n",
       "3     53358.30596             0           EML            11           Mar   \n",
       "4     53358.30596             0           TFL            28           Mar   \n",
       "...           ...           ...           ...           ...           ...   \n",
       "5155  42857.00000             0           CIP            19           Dec   \n",
       "5156  42857.00000             0           CIP            15           Oct   \n",
       "5157  42857.00000             0           CIP            21           Dec   \n",
       "5158  28829.00000             0           LMI            18           Feb   \n",
       "5159  53358.30596             0           CIP            15           Oct   \n",
       "\n",
       "        distance  Target_Enroll ETHNICITY    hscrat  init_span Instate  \\\n",
       "0     270.649474              0         C  0.037652       39.5       N   \n",
       "1     270.649474              0         N  0.037652       31.0       N   \n",
       "2     270.649474              0         C  0.037652       20.0       N   \n",
       "3     270.649474              0         C  0.037652       18.0       N   \n",
       "4     270.649474              0         B  0.037652       18.0       N   \n",
       "...          ...            ...       ...       ...        ...     ...   \n",
       "5155  544.690969              0         H  0.018182       21.0       Y   \n",
       "5156  544.690969              0         C  0.000000       11.0       Y   \n",
       "5157  544.690969              0         N  0.016949       21.0       Y   \n",
       "5158  532.482719              1         H  0.016949       19.0       Y   \n",
       "5159  555.863190              0         H  0.000000       11.0       Y   \n",
       "\n",
       "       int1rat   int2rat  interest  mailq  premiere  REFERRAL_CNTCTS  \\\n",
       "0     0.017183  0.020380         0      5         0                0   \n",
       "1     0.017183  0.020380         0      5         0                0   \n",
       "2     0.017183  0.020380         0      5         0                0   \n",
       "3     0.017183  0.020380         0      5         0                0   \n",
       "4     0.017183  0.020380         0      5         0                0   \n",
       "...        ...       ...       ...    ...       ...              ...   \n",
       "5155  0.052247  0.074324         0      2         0                0   \n",
       "5156  0.049270  0.056670         0      2         0                0   \n",
       "5157  0.020906  0.056670         0      1         0                0   \n",
       "5158  0.052353  0.062907         0      1         0                0   \n",
       "5159  0.049270  0.056670         0      5         0                0   \n",
       "\n",
       "         satscore  SELF_INIT_CNTCTS  sex  SOLICITED_CNTCTS TERRITORY  \\\n",
       "0     1150.036664                 1  1.0                 0         N   \n",
       "1     1150.036664                 1  1.0                 0         N   \n",
       "2     1150.036664                 0  1.0                 1         N   \n",
       "3     1150.036664                 1  0.0                 0         N   \n",
       "4     1090.000000                 2  1.0                 0         N   \n",
       "...           ...               ...  ...               ...       ...   \n",
       "5155  1150.036664                 0  1.0                 0         5   \n",
       "5156  1150.036664                 1  1.0                 0         5   \n",
       "5157  1150.036664                 1  1.0                 0         5   \n",
       "5158  1200.000000                 7  0.0                 1         5   \n",
       "5159  1150.036664                 1  0.0                 0         8   \n",
       "\n",
       "      TOTAL_CONTACTS  TRAVEL_INIT_CNTCTS  Apr  Aug  Dec  Feb  Jan  Jul  Jun  \\\n",
       "0                  1                   0    0    0    0    0    0    0    0   \n",
       "1                  1                   0    0    0    0    1    0    0    0   \n",
       "2                  1                   0    0    0    0    0    1    0    0   \n",
       "3                  1                   0    0    0    0    0    0    0    0   \n",
       "4                  2                   0    0    0    0    0    0    0    0   \n",
       "...              ...                 ...  ...  ...  ...  ...  ...  ...  ...   \n",
       "5155               1                   1    0    0    1    0    0    0    0   \n",
       "5156               2                   1    0    0    0    0    0    0    0   \n",
       "5157               2                   1    0    0    1    0    0    0    0   \n",
       "5158               8                   0    0    0    0    1    0    0    0   \n",
       "5159               2                   1    0    0    0    0    0    0    0   \n",
       "\n",
       "      Mar  May  Nov  Oct  Sep  \n",
       "0       0    0    0    0    1  \n",
       "1       0    0    0    0    0  \n",
       "2       0    0    0    0    0  \n",
       "3       1    0    0    0    0  \n",
       "4       1    0    0    0    0  \n",
       "...   ...  ...  ...  ...  ...  \n",
       "5155    0    0    0    0    0  \n",
       "5156    0    0    0    1    0  \n",
       "5157    0    0    0    0    0  \n",
       "5158    0    0    0    0    0  \n",
       "5159    0    0    0    1    0  \n",
       "\n",
       "[5131 rows x 36 columns]"
      ]
     },
     "execution_count": 323,
     "metadata": {},
     "output_type": "execute_result"
    }
   ],
   "source": [
    "result = pd.concat([data, month_encoded], axis=1, join='inner')\n",
    "result"
   ]
  },
  {
   "cell_type": "code",
   "execution_count": 334,
   "id": "c7fcdfb1",
   "metadata": {},
   "outputs": [
    {
     "data": {
      "text/plain": [
       "3273"
      ]
     },
     "execution_count": 334,
     "metadata": {},
     "output_type": "execute_result"
    }
   ],
   "source": [
    "df[\"CONTACT_CODE1\"].value_counts().head(10).sum()"
   ]
  },
  {
   "cell_type": "code",
   "execution_count": 337,
   "id": "8587d9ed",
   "metadata": {},
   "outputs": [
    {
     "data": {
      "text/plain": [
       "<AxesSubplot:xlabel='Contact_Date', ylabel='count'>"
      ]
     },
     "execution_count": 337,
     "metadata": {},
     "output_type": "execute_result"
    },
    {
     "data": {
      "image/png": "[encoded data removed]",
      "text/plain": [
       "<Figure size 432x288 with 1 Axes>"
      ]
     },
     "metadata": {
      "needs_background": "light"
     },
     "output_type": "display_data"
    }
   ],
   "source": [
    "sns.countplot(df[\"Contact_Date\"],hue=df[\"Target_Enroll\"])"
   ]
  },
  {
   "cell_type": "code",
   "execution_count": 338,
   "id": "24e03c49",
   "metadata": {},
   "outputs": [
    {
     "data": {
      "text/plain": [
       "3     354\n",
       "25    269\n",
       "23    260\n",
       "26    238\n",
       "18    226\n",
       "20    212\n",
       "6     210\n",
       "15    198\n",
       "21    188\n",
       "19    179\n",
       "27    178\n",
       "16    177\n",
       "17    174\n",
       "7     169\n",
       "2     169\n",
       "11    149\n",
       "14    143\n",
       "4     143\n",
       "5     141\n",
       "9     135\n",
       "28    135\n",
       "13    133\n",
       "29    131\n",
       "12    123\n",
       "8     116\n",
       "1     107\n",
       "10    103\n",
       "22    103\n",
       "30     97\n",
       "31     94\n",
       "24     77\n",
       "Name: Contact_Date, dtype: int64"
      ]
     },
     "execution_count": 338,
     "metadata": {},
     "output_type": "execute_result"
    }
   ],
   "source": [
    "df[\"Contact_Date\"].value_counts()"
   ]
  },
  {
   "cell_type": "code",
   "execution_count": null,
   "id": "40cee3f8",
   "metadata": {},
   "outputs": [],
   "source": []
  }
 ],
 "metadata": {
  "kernelspec": {
   "display_name": "Python 3 (ipykernel)",
   "language": "python",
   "name": "python3"
  },
  "language_info": {
   "codemirror_mode": {
    "name": "ipython",
    "version": 3
   },
   "file_extension": ".py",
   "mimetype": "text/x-python",
   "name": "python",
   "nbconvert_exporter": "python",
   "pygments_lexer": "ipython3",
   "version": "3.10.5"
  }
 },
 "nbformat": 4,
 "nbformat_minor": 5
}
