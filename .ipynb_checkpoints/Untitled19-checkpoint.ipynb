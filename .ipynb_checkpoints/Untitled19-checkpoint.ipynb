{
 "cells": [
  {
   "cell_type": "code",
   "execution_count": 1,
   "id": "61bc2e9e",
   "metadata": {},
   "outputs": [],
   "source": [
    "import pandas as pd\n",
    "import numpy as np \n",
    "import matplotlib as plt\n",
    "import seaborn as sns\n"
   ]
  },
  {
   "cell_type": "code",
   "execution_count": 2,
   "id": "b54fbb35",
   "metadata": {},
   "outputs": [],
   "source": [
    "df=pd.read_csv('Enrollment_Data.csv')"
   ]
  },
  {
   "cell_type": "code",
   "execution_count": 3,
   "id": "86d2cdfb",
   "metadata": {},
   "outputs": [
    {
     "data": {
      "text/plain": [
       "(5160, 30)"
      ]
     },
     "execution_count": 3,
     "metadata": {},
     "output_type": "execute_result"
    }
   ],
   "source": [
    "df.shape"
   ]
  },
  {
   "cell_type": "code",
   "execution_count": 4,
   "id": "c4f4fd2d",
   "metadata": {
    "scrolled": true
   },
   "outputs": [
    {
     "data": {
      "text/plain": [
       "avg_income             763\n",
       "CAMPUS_VISIT             0\n",
       "CAMPUS_VISIT_2           0\n",
       "CONTACT_CODE1            5\n",
       "Contact_Date             0\n",
       "Contact_Month            0\n",
       "Contact_Year             0\n",
       "distance               671\n",
       "Target_Enroll            0\n",
       "ETHNICITY              598\n",
       "hscrat                   0\n",
       "ID                       0\n",
       "init_span                0\n",
       "Instate                  0\n",
       "int1rat                  0\n",
       "int2rat                  0\n",
       "interest                 0\n",
       "IRSCHOOL               425\n",
       "LEVEL_YEAR               0\n",
       "mailq                    0\n",
       "premiere                 0\n",
       "REFERRAL_CNTCTS          0\n",
       "satscore              1887\n",
       "SELF_INIT_CNTCTS         0\n",
       "sex                    127\n",
       "SOLICITED_CNTCTS         0\n",
       "telecq                3055\n",
       "TERRITORY                0\n",
       "TOTAL_CONTACTS           0\n",
       "TRAVEL_INIT_CNTCTS       0\n",
       "dtype: int64"
      ]
     },
     "execution_count": 4,
     "metadata": {},
     "output_type": "execute_result"
    }
   ],
   "source": [
    "df.isnull().sum()"
   ]
  },
  {
   "cell_type": "code",
   "execution_count": 5,
   "id": "86c6b873",
   "metadata": {},
   "outputs": [
    {
     "ename": "SyntaxError",
     "evalue": "invalid syntax (1951995059.py, line 1)",
     "output_type": "error",
     "traceback": [
      "\u001b[1;36m  Input \u001b[1;32mIn [5]\u001b[1;36m\u001b[0m\n\u001b[1;33m    df[]\u001b[0m\n\u001b[1;37m       ^\u001b[0m\n\u001b[1;31mSyntaxError\u001b[0m\u001b[1;31m:\u001b[0m invalid syntax\n"
     ]
    }
   ],
   "source": [
    "df[]"
   ]
  },
  {
   "cell_type": "code",
   "execution_count": null,
   "id": "653d877c",
   "metadata": {},
   "outputs": [],
   "source": [
    "df[\"CONTACT_CODE1\"].nunique"
   ]
  },
  {
   "cell_type": "code",
   "execution_count": null,
   "id": "5d369268",
   "metadata": {},
   "outputs": [],
   "source": [
    "sns.distplot(df[\"avg_income\"])"
   ]
  },
  {
   "cell_type": "code",
   "execution_count": null,
   "id": "f3421072",
   "metadata": {},
   "outputs": [],
   "source": [
    "sns.boxplot(df[\"avg_income\"])"
   ]
  },
  {
   "cell_type": "code",
   "execution_count": null,
   "id": "29fa9a8c",
   "metadata": {},
   "outputs": [],
   "source": [
    "df[\"CAMPUS_VISIT\"].value_counts()"
   ]
  },
  {
   "cell_type": "code",
   "execution_count": null,
   "id": "3dc20e5c",
   "metadata": {},
   "outputs": [],
   "source": [
    "sns.distplot(df[\"distance\"].dropna())"
   ]
  },
  {
   "cell_type": "code",
   "execution_count": 6,
   "id": "7f26abb1",
   "metadata": {},
   "outputs": [],
   "source": [
    "pd.set_option('display.max_columns',None)"
   ]
  },
  {
   "cell_type": "code",
   "execution_count": 7,
   "id": "515ed8d4",
   "metadata": {},
   "outputs": [
    {
     "data": {
      "text/html": [
       "<div>\n",
       "<style scoped>\n",
       "    .dataframe tbody tr th:only-of-type {\n",
       "        vertical-align: middle;\n",
       "    }\n",
       "\n",
       "    .dataframe tbody tr th {\n",
       "        vertical-align: top;\n",
       "    }\n",
       "\n",
       "    .dataframe thead th {\n",
       "        text-align: right;\n",
       "    }\n",
       "</style>\n",
       "<table border=\"1\" class=\"dataframe\">\n",
       "  <thead>\n",
       "    <tr style=\"text-align: right;\">\n",
       "      <th></th>\n",
       "      <th>avg_income</th>\n",
       "      <th>CAMPUS_VISIT</th>\n",
       "      <th>CAMPUS_VISIT_2</th>\n",
       "      <th>CONTACT_CODE1</th>\n",
       "      <th>Contact_Date</th>\n",
       "      <th>Contact_Month</th>\n",
       "      <th>Contact_Year</th>\n",
       "      <th>distance</th>\n",
       "      <th>Target_Enroll</th>\n",
       "      <th>ETHNICITY</th>\n",
       "      <th>hscrat</th>\n",
       "      <th>ID</th>\n",
       "      <th>init_span</th>\n",
       "      <th>Instate</th>\n",
       "      <th>int1rat</th>\n",
       "      <th>int2rat</th>\n",
       "      <th>interest</th>\n",
       "      <th>IRSCHOOL</th>\n",
       "      <th>LEVEL_YEAR</th>\n",
       "      <th>mailq</th>\n",
       "      <th>premiere</th>\n",
       "      <th>REFERRAL_CNTCTS</th>\n",
       "      <th>satscore</th>\n",
       "      <th>SELF_INIT_CNTCTS</th>\n",
       "      <th>sex</th>\n",
       "      <th>SOLICITED_CNTCTS</th>\n",
       "      <th>telecq</th>\n",
       "      <th>TERRITORY</th>\n",
       "      <th>TOTAL_CONTACTS</th>\n",
       "      <th>TRAVEL_INIT_CNTCTS</th>\n",
       "    </tr>\n",
       "  </thead>\n",
       "  <tbody>\n",
       "    <tr>\n",
       "      <th>0</th>\n",
       "      <td>NaN</td>\n",
       "      <td>0</td>\n",
       "      <td>0</td>\n",
       "      <td>EML</td>\n",
       "      <td>1</td>\n",
       "      <td>Sep</td>\n",
       "      <td>2012</td>\n",
       "      <td>NaN</td>\n",
       "      <td>0</td>\n",
       "      <td>NaN</td>\n",
       "      <td>0.037652</td>\n",
       "      <td>32</td>\n",
       "      <td>48</td>\n",
       "      <td>N</td>\n",
       "      <td>0.017183</td>\n",
       "      <td>0.02038</td>\n",
       "      <td>0</td>\n",
       "      <td>NaN</td>\n",
       "      <td>FR04</td>\n",
       "      <td>5</td>\n",
       "      <td>0</td>\n",
       "      <td>0</td>\n",
       "      <td>NaN</td>\n",
       "      <td>1</td>\n",
       "      <td>1.0</td>\n",
       "      <td>0</td>\n",
       "      <td>NaN</td>\n",
       "      <td>N</td>\n",
       "      <td>1</td>\n",
       "      <td>0</td>\n",
       "    </tr>\n",
       "    <tr>\n",
       "      <th>1</th>\n",
       "      <td>NaN</td>\n",
       "      <td>0</td>\n",
       "      <td>0</td>\n",
       "      <td>SAT</td>\n",
       "      <td>12</td>\n",
       "      <td>Feb</td>\n",
       "      <td>2014</td>\n",
       "      <td>NaN</td>\n",
       "      <td>0</td>\n",
       "      <td>N</td>\n",
       "      <td>0.037652</td>\n",
       "      <td>51</td>\n",
       "      <td>31</td>\n",
       "      <td>N</td>\n",
       "      <td>0.017183</td>\n",
       "      <td>0.02038</td>\n",
       "      <td>0</td>\n",
       "      <td>NaN</td>\n",
       "      <td>FR04</td>\n",
       "      <td>5</td>\n",
       "      <td>0</td>\n",
       "      <td>0</td>\n",
       "      <td>NaN</td>\n",
       "      <td>1</td>\n",
       "      <td>1.0</td>\n",
       "      <td>0</td>\n",
       "      <td>NaN</td>\n",
       "      <td>N</td>\n",
       "      <td>1</td>\n",
       "      <td>0</td>\n",
       "    </tr>\n",
       "    <tr>\n",
       "      <th>2</th>\n",
       "      <td>NaN</td>\n",
       "      <td>0</td>\n",
       "      <td>0</td>\n",
       "      <td>C01</td>\n",
       "      <td>16</td>\n",
       "      <td>Jan</td>\n",
       "      <td>2015</td>\n",
       "      <td>NaN</td>\n",
       "      <td>0</td>\n",
       "      <td>C</td>\n",
       "      <td>0.037652</td>\n",
       "      <td>120</td>\n",
       "      <td>20</td>\n",
       "      <td>N</td>\n",
       "      <td>0.017183</td>\n",
       "      <td>0.02038</td>\n",
       "      <td>0</td>\n",
       "      <td>NaN</td>\n",
       "      <td>FR04</td>\n",
       "      <td>5</td>\n",
       "      <td>0</td>\n",
       "      <td>0</td>\n",
       "      <td>NaN</td>\n",
       "      <td>0</td>\n",
       "      <td>1.0</td>\n",
       "      <td>1</td>\n",
       "      <td>NaN</td>\n",
       "      <td>N</td>\n",
       "      <td>1</td>\n",
       "      <td>0</td>\n",
       "    </tr>\n",
       "    <tr>\n",
       "      <th>3</th>\n",
       "      <td>NaN</td>\n",
       "      <td>0</td>\n",
       "      <td>0</td>\n",
       "      <td>EML</td>\n",
       "      <td>11</td>\n",
       "      <td>Mar</td>\n",
       "      <td>2015</td>\n",
       "      <td>NaN</td>\n",
       "      <td>0</td>\n",
       "      <td>NaN</td>\n",
       "      <td>0.037652</td>\n",
       "      <td>151</td>\n",
       "      <td>18</td>\n",
       "      <td>N</td>\n",
       "      <td>0.017183</td>\n",
       "      <td>0.02038</td>\n",
       "      <td>0</td>\n",
       "      <td>NaN</td>\n",
       "      <td>FR04</td>\n",
       "      <td>5</td>\n",
       "      <td>0</td>\n",
       "      <td>0</td>\n",
       "      <td>NaN</td>\n",
       "      <td>1</td>\n",
       "      <td>0.0</td>\n",
       "      <td>0</td>\n",
       "      <td>NaN</td>\n",
       "      <td>N</td>\n",
       "      <td>1</td>\n",
       "      <td>0</td>\n",
       "    </tr>\n",
       "    <tr>\n",
       "      <th>4</th>\n",
       "      <td>NaN</td>\n",
       "      <td>0</td>\n",
       "      <td>0</td>\n",
       "      <td>TFL</td>\n",
       "      <td>28</td>\n",
       "      <td>Mar</td>\n",
       "      <td>2015</td>\n",
       "      <td>NaN</td>\n",
       "      <td>0</td>\n",
       "      <td>B</td>\n",
       "      <td>0.037652</td>\n",
       "      <td>160</td>\n",
       "      <td>18</td>\n",
       "      <td>N</td>\n",
       "      <td>0.017183</td>\n",
       "      <td>0.02038</td>\n",
       "      <td>0</td>\n",
       "      <td>NaN</td>\n",
       "      <td>FR04</td>\n",
       "      <td>5</td>\n",
       "      <td>0</td>\n",
       "      <td>0</td>\n",
       "      <td>1090.0</td>\n",
       "      <td>2</td>\n",
       "      <td>1.0</td>\n",
       "      <td>0</td>\n",
       "      <td>NaN</td>\n",
       "      <td>N</td>\n",
       "      <td>2</td>\n",
       "      <td>0</td>\n",
       "    </tr>\n",
       "    <tr>\n",
       "      <th>5</th>\n",
       "      <td>NaN</td>\n",
       "      <td>0</td>\n",
       "      <td>0</td>\n",
       "      <td>PCR</td>\n",
       "      <td>28</td>\n",
       "      <td>Mar</td>\n",
       "      <td>2015</td>\n",
       "      <td>NaN</td>\n",
       "      <td>0</td>\n",
       "      <td>N</td>\n",
       "      <td>0.037652</td>\n",
       "      <td>166</td>\n",
       "      <td>18</td>\n",
       "      <td>N</td>\n",
       "      <td>0.017183</td>\n",
       "      <td>0.02038</td>\n",
       "      <td>0</td>\n",
       "      <td>NaN</td>\n",
       "      <td>FR04</td>\n",
       "      <td>5</td>\n",
       "      <td>0</td>\n",
       "      <td>0</td>\n",
       "      <td>NaN</td>\n",
       "      <td>1</td>\n",
       "      <td>0.0</td>\n",
       "      <td>1</td>\n",
       "      <td>NaN</td>\n",
       "      <td>N</td>\n",
       "      <td>2</td>\n",
       "      <td>0</td>\n",
       "    </tr>\n",
       "    <tr>\n",
       "      <th>6</th>\n",
       "      <td>NaN</td>\n",
       "      <td>0</td>\n",
       "      <td>0</td>\n",
       "      <td>EML</td>\n",
       "      <td>6</td>\n",
       "      <td>May</td>\n",
       "      <td>2015</td>\n",
       "      <td>NaN</td>\n",
       "      <td>0</td>\n",
       "      <td>NaN</td>\n",
       "      <td>0.037652</td>\n",
       "      <td>212</td>\n",
       "      <td>16</td>\n",
       "      <td>N</td>\n",
       "      <td>0.017183</td>\n",
       "      <td>0.02038</td>\n",
       "      <td>0</td>\n",
       "      <td>NaN</td>\n",
       "      <td>FR04</td>\n",
       "      <td>5</td>\n",
       "      <td>0</td>\n",
       "      <td>0</td>\n",
       "      <td>NaN</td>\n",
       "      <td>1</td>\n",
       "      <td>0.0</td>\n",
       "      <td>0</td>\n",
       "      <td>NaN</td>\n",
       "      <td>N</td>\n",
       "      <td>1</td>\n",
       "      <td>0</td>\n",
       "    </tr>\n",
       "    <tr>\n",
       "      <th>7</th>\n",
       "      <td>NaN</td>\n",
       "      <td>0</td>\n",
       "      <td>0</td>\n",
       "      <td>SAT</td>\n",
       "      <td>23</td>\n",
       "      <td>Jun</td>\n",
       "      <td>2015</td>\n",
       "      <td>NaN</td>\n",
       "      <td>0</td>\n",
       "      <td>N</td>\n",
       "      <td>0.037652</td>\n",
       "      <td>246</td>\n",
       "      <td>15</td>\n",
       "      <td>N</td>\n",
       "      <td>0.017183</td>\n",
       "      <td>0.02038</td>\n",
       "      <td>0</td>\n",
       "      <td>NaN</td>\n",
       "      <td>FR04</td>\n",
       "      <td>5</td>\n",
       "      <td>0</td>\n",
       "      <td>0</td>\n",
       "      <td>1210.0</td>\n",
       "      <td>2</td>\n",
       "      <td>0.0</td>\n",
       "      <td>0</td>\n",
       "      <td>NaN</td>\n",
       "      <td>N</td>\n",
       "      <td>2</td>\n",
       "      <td>0</td>\n",
       "    </tr>\n",
       "    <tr>\n",
       "      <th>8</th>\n",
       "      <td>NaN</td>\n",
       "      <td>0</td>\n",
       "      <td>0</td>\n",
       "      <td>EML</td>\n",
       "      <td>14</td>\n",
       "      <td>Jul</td>\n",
       "      <td>2015</td>\n",
       "      <td>NaN</td>\n",
       "      <td>0</td>\n",
       "      <td>NaN</td>\n",
       "      <td>0.037652</td>\n",
       "      <td>288</td>\n",
       "      <td>14</td>\n",
       "      <td>N</td>\n",
       "      <td>0.017183</td>\n",
       "      <td>0.02038</td>\n",
       "      <td>0</td>\n",
       "      <td>NaN</td>\n",
       "      <td>FR04</td>\n",
       "      <td>5</td>\n",
       "      <td>0</td>\n",
       "      <td>0</td>\n",
       "      <td>NaN</td>\n",
       "      <td>1</td>\n",
       "      <td>NaN</td>\n",
       "      <td>0</td>\n",
       "      <td>NaN</td>\n",
       "      <td>N</td>\n",
       "      <td>1</td>\n",
       "      <td>0</td>\n",
       "    </tr>\n",
       "    <tr>\n",
       "      <th>9</th>\n",
       "      <td>NaN</td>\n",
       "      <td>0</td>\n",
       "      <td>0</td>\n",
       "      <td>EML</td>\n",
       "      <td>16</td>\n",
       "      <td>Jul</td>\n",
       "      <td>2015</td>\n",
       "      <td>NaN</td>\n",
       "      <td>0</td>\n",
       "      <td>NaN</td>\n",
       "      <td>0.037652</td>\n",
       "      <td>303</td>\n",
       "      <td>14</td>\n",
       "      <td>N</td>\n",
       "      <td>0.017183</td>\n",
       "      <td>0.02038</td>\n",
       "      <td>0</td>\n",
       "      <td>NaN</td>\n",
       "      <td>FR04</td>\n",
       "      <td>5</td>\n",
       "      <td>0</td>\n",
       "      <td>0</td>\n",
       "      <td>NaN</td>\n",
       "      <td>1</td>\n",
       "      <td>0.0</td>\n",
       "      <td>0</td>\n",
       "      <td>NaN</td>\n",
       "      <td>N</td>\n",
       "      <td>1</td>\n",
       "      <td>0</td>\n",
       "    </tr>\n",
       "    <tr>\n",
       "      <th>10</th>\n",
       "      <td>NaN</td>\n",
       "      <td>0</td>\n",
       "      <td>0</td>\n",
       "      <td>EML</td>\n",
       "      <td>29</td>\n",
       "      <td>Jul</td>\n",
       "      <td>2015</td>\n",
       "      <td>NaN</td>\n",
       "      <td>0</td>\n",
       "      <td>N</td>\n",
       "      <td>0.037652</td>\n",
       "      <td>312</td>\n",
       "      <td>14</td>\n",
       "      <td>N</td>\n",
       "      <td>0.017183</td>\n",
       "      <td>0.02038</td>\n",
       "      <td>0</td>\n",
       "      <td>NaN</td>\n",
       "      <td>FR04</td>\n",
       "      <td>5</td>\n",
       "      <td>0</td>\n",
       "      <td>0</td>\n",
       "      <td>NaN</td>\n",
       "      <td>2</td>\n",
       "      <td>NaN</td>\n",
       "      <td>0</td>\n",
       "      <td>NaN</td>\n",
       "      <td>N</td>\n",
       "      <td>2</td>\n",
       "      <td>0</td>\n",
       "    </tr>\n",
       "    <tr>\n",
       "      <th>11</th>\n",
       "      <td>NaN</td>\n",
       "      <td>0</td>\n",
       "      <td>0</td>\n",
       "      <td>EML</td>\n",
       "      <td>12</td>\n",
       "      <td>Aug</td>\n",
       "      <td>2015</td>\n",
       "      <td>NaN</td>\n",
       "      <td>0</td>\n",
       "      <td>NaN</td>\n",
       "      <td>0.037652</td>\n",
       "      <td>325</td>\n",
       "      <td>13</td>\n",
       "      <td>N</td>\n",
       "      <td>0.017183</td>\n",
       "      <td>0.02038</td>\n",
       "      <td>0</td>\n",
       "      <td>NaN</td>\n",
       "      <td>FR04</td>\n",
       "      <td>5</td>\n",
       "      <td>0</td>\n",
       "      <td>0</td>\n",
       "      <td>NaN</td>\n",
       "      <td>1</td>\n",
       "      <td>0.0</td>\n",
       "      <td>0</td>\n",
       "      <td>NaN</td>\n",
       "      <td>N</td>\n",
       "      <td>1</td>\n",
       "      <td>0</td>\n",
       "    </tr>\n",
       "    <tr>\n",
       "      <th>12</th>\n",
       "      <td>NaN</td>\n",
       "      <td>0</td>\n",
       "      <td>0</td>\n",
       "      <td>EML</td>\n",
       "      <td>19</td>\n",
       "      <td>Aug</td>\n",
       "      <td>2015</td>\n",
       "      <td>NaN</td>\n",
       "      <td>0</td>\n",
       "      <td>NaN</td>\n",
       "      <td>0.037652</td>\n",
       "      <td>348</td>\n",
       "      <td>13</td>\n",
       "      <td>N</td>\n",
       "      <td>0.017183</td>\n",
       "      <td>0.02038</td>\n",
       "      <td>0</td>\n",
       "      <td>NaN</td>\n",
       "      <td>FR04</td>\n",
       "      <td>5</td>\n",
       "      <td>0</td>\n",
       "      <td>0</td>\n",
       "      <td>NaN</td>\n",
       "      <td>1</td>\n",
       "      <td>NaN</td>\n",
       "      <td>0</td>\n",
       "      <td>NaN</td>\n",
       "      <td>N</td>\n",
       "      <td>1</td>\n",
       "      <td>0</td>\n",
       "    </tr>\n",
       "    <tr>\n",
       "      <th>13</th>\n",
       "      <td>NaN</td>\n",
       "      <td>0</td>\n",
       "      <td>0</td>\n",
       "      <td>EML</td>\n",
       "      <td>5</td>\n",
       "      <td>Sep</td>\n",
       "      <td>2015</td>\n",
       "      <td>NaN</td>\n",
       "      <td>0</td>\n",
       "      <td>NaN</td>\n",
       "      <td>0.037652</td>\n",
       "      <td>375</td>\n",
       "      <td>12</td>\n",
       "      <td>N</td>\n",
       "      <td>0.017183</td>\n",
       "      <td>0.02038</td>\n",
       "      <td>0</td>\n",
       "      <td>NaN</td>\n",
       "      <td>FR04</td>\n",
       "      <td>5</td>\n",
       "      <td>0</td>\n",
       "      <td>0</td>\n",
       "      <td>NaN</td>\n",
       "      <td>1</td>\n",
       "      <td>NaN</td>\n",
       "      <td>0</td>\n",
       "      <td>NaN</td>\n",
       "      <td>N</td>\n",
       "      <td>1</td>\n",
       "      <td>0</td>\n",
       "    </tr>\n",
       "    <tr>\n",
       "      <th>14</th>\n",
       "      <td>NaN</td>\n",
       "      <td>0</td>\n",
       "      <td>0</td>\n",
       "      <td>TFL</td>\n",
       "      <td>10</td>\n",
       "      <td>Sep</td>\n",
       "      <td>2015</td>\n",
       "      <td>NaN</td>\n",
       "      <td>0</td>\n",
       "      <td>NaN</td>\n",
       "      <td>0.037652</td>\n",
       "      <td>378</td>\n",
       "      <td>12</td>\n",
       "      <td>N</td>\n",
       "      <td>0.017183</td>\n",
       "      <td>0.02038</td>\n",
       "      <td>0</td>\n",
       "      <td>NaN</td>\n",
       "      <td>FR04</td>\n",
       "      <td>5</td>\n",
       "      <td>0</td>\n",
       "      <td>0</td>\n",
       "      <td>NaN</td>\n",
       "      <td>1</td>\n",
       "      <td>NaN</td>\n",
       "      <td>0</td>\n",
       "      <td>NaN</td>\n",
       "      <td>N</td>\n",
       "      <td>1</td>\n",
       "      <td>0</td>\n",
       "    </tr>\n",
       "    <tr>\n",
       "      <th>15</th>\n",
       "      <td>NaN</td>\n",
       "      <td>0</td>\n",
       "      <td>0</td>\n",
       "      <td>EML</td>\n",
       "      <td>17</td>\n",
       "      <td>Sep</td>\n",
       "      <td>2015</td>\n",
       "      <td>NaN</td>\n",
       "      <td>0</td>\n",
       "      <td>NaN</td>\n",
       "      <td>0.037652</td>\n",
       "      <td>384</td>\n",
       "      <td>12</td>\n",
       "      <td>N</td>\n",
       "      <td>0.017183</td>\n",
       "      <td>0.02038</td>\n",
       "      <td>0</td>\n",
       "      <td>NaN</td>\n",
       "      <td>FR04</td>\n",
       "      <td>5</td>\n",
       "      <td>0</td>\n",
       "      <td>0</td>\n",
       "      <td>NaN</td>\n",
       "      <td>1</td>\n",
       "      <td>NaN</td>\n",
       "      <td>0</td>\n",
       "      <td>NaN</td>\n",
       "      <td>N</td>\n",
       "      <td>1</td>\n",
       "      <td>0</td>\n",
       "    </tr>\n",
       "    <tr>\n",
       "      <th>16</th>\n",
       "      <td>NaN</td>\n",
       "      <td>0</td>\n",
       "      <td>0</td>\n",
       "      <td>SAT</td>\n",
       "      <td>17</td>\n",
       "      <td>Nov</td>\n",
       "      <td>2015</td>\n",
       "      <td>NaN</td>\n",
       "      <td>0</td>\n",
       "      <td>H</td>\n",
       "      <td>0.037652</td>\n",
       "      <td>454</td>\n",
       "      <td>10</td>\n",
       "      <td>N</td>\n",
       "      <td>0.017183</td>\n",
       "      <td>0.02038</td>\n",
       "      <td>0</td>\n",
       "      <td>NaN</td>\n",
       "      <td>FR04</td>\n",
       "      <td>5</td>\n",
       "      <td>0</td>\n",
       "      <td>0</td>\n",
       "      <td>850.0</td>\n",
       "      <td>1</td>\n",
       "      <td>1.0</td>\n",
       "      <td>0</td>\n",
       "      <td>NaN</td>\n",
       "      <td>N</td>\n",
       "      <td>1</td>\n",
       "      <td>0</td>\n",
       "    </tr>\n",
       "    <tr>\n",
       "      <th>17</th>\n",
       "      <td>NaN</td>\n",
       "      <td>0</td>\n",
       "      <td>0</td>\n",
       "      <td>LTR</td>\n",
       "      <td>17</td>\n",
       "      <td>Dec</td>\n",
       "      <td>2015</td>\n",
       "      <td>NaN</td>\n",
       "      <td>0</td>\n",
       "      <td>NaN</td>\n",
       "      <td>0.037652</td>\n",
       "      <td>495</td>\n",
       "      <td>9</td>\n",
       "      <td>N</td>\n",
       "      <td>0.017183</td>\n",
       "      <td>0.02038</td>\n",
       "      <td>0</td>\n",
       "      <td>NaN</td>\n",
       "      <td>FR04</td>\n",
       "      <td>5</td>\n",
       "      <td>0</td>\n",
       "      <td>0</td>\n",
       "      <td>NaN</td>\n",
       "      <td>1</td>\n",
       "      <td>1.0</td>\n",
       "      <td>0</td>\n",
       "      <td>NaN</td>\n",
       "      <td>N</td>\n",
       "      <td>1</td>\n",
       "      <td>0</td>\n",
       "    </tr>\n",
       "    <tr>\n",
       "      <th>18</th>\n",
       "      <td>NaN</td>\n",
       "      <td>0</td>\n",
       "      <td>0</td>\n",
       "      <td>EML</td>\n",
       "      <td>30</td>\n",
       "      <td>Dec</td>\n",
       "      <td>2015</td>\n",
       "      <td>NaN</td>\n",
       "      <td>0</td>\n",
       "      <td>NaN</td>\n",
       "      <td>0.037652</td>\n",
       "      <td>516</td>\n",
       "      <td>9</td>\n",
       "      <td>N</td>\n",
       "      <td>0.017183</td>\n",
       "      <td>0.02038</td>\n",
       "      <td>0</td>\n",
       "      <td>NaN</td>\n",
       "      <td>FR04</td>\n",
       "      <td>5</td>\n",
       "      <td>0</td>\n",
       "      <td>0</td>\n",
       "      <td>NaN</td>\n",
       "      <td>1</td>\n",
       "      <td>1.0</td>\n",
       "      <td>0</td>\n",
       "      <td>NaN</td>\n",
       "      <td>N</td>\n",
       "      <td>1</td>\n",
       "      <td>0</td>\n",
       "    </tr>\n",
       "    <tr>\n",
       "      <th>19</th>\n",
       "      <td>NaN</td>\n",
       "      <td>0</td>\n",
       "      <td>0</td>\n",
       "      <td>EML</td>\n",
       "      <td>28</td>\n",
       "      <td>Jan</td>\n",
       "      <td>2016</td>\n",
       "      <td>NaN</td>\n",
       "      <td>0</td>\n",
       "      <td>NaN</td>\n",
       "      <td>0.037652</td>\n",
       "      <td>563</td>\n",
       "      <td>8</td>\n",
       "      <td>N</td>\n",
       "      <td>0.017183</td>\n",
       "      <td>0.02038</td>\n",
       "      <td>0</td>\n",
       "      <td>NaN</td>\n",
       "      <td>FR04</td>\n",
       "      <td>5</td>\n",
       "      <td>0</td>\n",
       "      <td>0</td>\n",
       "      <td>NaN</td>\n",
       "      <td>1</td>\n",
       "      <td>NaN</td>\n",
       "      <td>0</td>\n",
       "      <td>NaN</td>\n",
       "      <td>N</td>\n",
       "      <td>1</td>\n",
       "      <td>0</td>\n",
       "    </tr>\n",
       "  </tbody>\n",
       "</table>\n",
       "</div>"
      ],
      "text/plain": [
       "    avg_income  CAMPUS_VISIT CAMPUS_VISIT_2 CONTACT_CODE1  Contact_Date  \\\n",
       "0          NaN             0              0           EML             1   \n",
       "1          NaN             0              0           SAT            12   \n",
       "2          NaN             0              0           C01            16   \n",
       "3          NaN             0              0           EML            11   \n",
       "4          NaN             0              0           TFL            28   \n",
       "5          NaN             0              0           PCR            28   \n",
       "6          NaN             0              0           EML             6   \n",
       "7          NaN             0              0           SAT            23   \n",
       "8          NaN             0              0           EML            14   \n",
       "9          NaN             0              0           EML            16   \n",
       "10         NaN             0              0           EML            29   \n",
       "11         NaN             0              0           EML            12   \n",
       "12         NaN             0              0           EML            19   \n",
       "13         NaN             0              0           EML             5   \n",
       "14         NaN             0              0           TFL            10   \n",
       "15         NaN             0              0           EML            17   \n",
       "16         NaN             0              0           SAT            17   \n",
       "17         NaN             0              0           LTR            17   \n",
       "18         NaN             0              0           EML            30   \n",
       "19         NaN             0              0           EML            28   \n",
       "\n",
       "   Contact_Month  Contact_Year  distance  Target_Enroll ETHNICITY    hscrat  \\\n",
       "0            Sep          2012       NaN              0       NaN  0.037652   \n",
       "1            Feb          2014       NaN              0         N  0.037652   \n",
       "2            Jan          2015       NaN              0         C  0.037652   \n",
       "3            Mar          2015       NaN              0       NaN  0.037652   \n",
       "4            Mar          2015       NaN              0         B  0.037652   \n",
       "5            Mar          2015       NaN              0         N  0.037652   \n",
       "6            May          2015       NaN              0       NaN  0.037652   \n",
       "7            Jun          2015       NaN              0         N  0.037652   \n",
       "8            Jul          2015       NaN              0       NaN  0.037652   \n",
       "9            Jul          2015       NaN              0       NaN  0.037652   \n",
       "10           Jul          2015       NaN              0         N  0.037652   \n",
       "11           Aug          2015       NaN              0       NaN  0.037652   \n",
       "12           Aug          2015       NaN              0       NaN  0.037652   \n",
       "13           Sep          2015       NaN              0       NaN  0.037652   \n",
       "14           Sep          2015       NaN              0       NaN  0.037652   \n",
       "15           Sep          2015       NaN              0       NaN  0.037652   \n",
       "16           Nov          2015       NaN              0         H  0.037652   \n",
       "17           Dec          2015       NaN              0       NaN  0.037652   \n",
       "18           Dec          2015       NaN              0       NaN  0.037652   \n",
       "19           Jan          2016       NaN              0       NaN  0.037652   \n",
       "\n",
       "     ID  init_span Instate   int1rat  int2rat  interest IRSCHOOL LEVEL_YEAR  \\\n",
       "0    32         48       N  0.017183  0.02038         0      NaN       FR04   \n",
       "1    51         31       N  0.017183  0.02038         0      NaN       FR04   \n",
       "2   120         20       N  0.017183  0.02038         0      NaN       FR04   \n",
       "3   151         18       N  0.017183  0.02038         0      NaN       FR04   \n",
       "4   160         18       N  0.017183  0.02038         0      NaN       FR04   \n",
       "5   166         18       N  0.017183  0.02038         0      NaN       FR04   \n",
       "6   212         16       N  0.017183  0.02038         0      NaN       FR04   \n",
       "7   246         15       N  0.017183  0.02038         0      NaN       FR04   \n",
       "8   288         14       N  0.017183  0.02038         0      NaN       FR04   \n",
       "9   303         14       N  0.017183  0.02038         0      NaN       FR04   \n",
       "10  312         14       N  0.017183  0.02038         0      NaN       FR04   \n",
       "11  325         13       N  0.017183  0.02038         0      NaN       FR04   \n",
       "12  348         13       N  0.017183  0.02038         0      NaN       FR04   \n",
       "13  375         12       N  0.017183  0.02038         0      NaN       FR04   \n",
       "14  378         12       N  0.017183  0.02038         0      NaN       FR04   \n",
       "15  384         12       N  0.017183  0.02038         0      NaN       FR04   \n",
       "16  454         10       N  0.017183  0.02038         0      NaN       FR04   \n",
       "17  495          9       N  0.017183  0.02038         0      NaN       FR04   \n",
       "18  516          9       N  0.017183  0.02038         0      NaN       FR04   \n",
       "19  563          8       N  0.017183  0.02038         0      NaN       FR04   \n",
       "\n",
       "    mailq  premiere  REFERRAL_CNTCTS  satscore  SELF_INIT_CNTCTS  sex  \\\n",
       "0       5         0                0       NaN                 1  1.0   \n",
       "1       5         0                0       NaN                 1  1.0   \n",
       "2       5         0                0       NaN                 0  1.0   \n",
       "3       5         0                0       NaN                 1  0.0   \n",
       "4       5         0                0    1090.0                 2  1.0   \n",
       "5       5         0                0       NaN                 1  0.0   \n",
       "6       5         0                0       NaN                 1  0.0   \n",
       "7       5         0                0    1210.0                 2  0.0   \n",
       "8       5         0                0       NaN                 1  NaN   \n",
       "9       5         0                0       NaN                 1  0.0   \n",
       "10      5         0                0       NaN                 2  NaN   \n",
       "11      5         0                0       NaN                 1  0.0   \n",
       "12      5         0                0       NaN                 1  NaN   \n",
       "13      5         0                0       NaN                 1  NaN   \n",
       "14      5         0                0       NaN                 1  NaN   \n",
       "15      5         0                0       NaN                 1  NaN   \n",
       "16      5         0                0     850.0                 1  1.0   \n",
       "17      5         0                0       NaN                 1  1.0   \n",
       "18      5         0                0       NaN                 1  1.0   \n",
       "19      5         0                0       NaN                 1  NaN   \n",
       "\n",
       "    SOLICITED_CNTCTS  telecq TERRITORY  TOTAL_CONTACTS  TRAVEL_INIT_CNTCTS  \n",
       "0                  0     NaN         N               1                   0  \n",
       "1                  0     NaN         N               1                   0  \n",
       "2                  1     NaN         N               1                   0  \n",
       "3                  0     NaN         N               1                   0  \n",
       "4                  0     NaN         N               2                   0  \n",
       "5                  1     NaN         N               2                   0  \n",
       "6                  0     NaN         N               1                   0  \n",
       "7                  0     NaN         N               2                   0  \n",
       "8                  0     NaN         N               1                   0  \n",
       "9                  0     NaN         N               1                   0  \n",
       "10                 0     NaN         N               2                   0  \n",
       "11                 0     NaN         N               1                   0  \n",
       "12                 0     NaN         N               1                   0  \n",
       "13                 0     NaN         N               1                   0  \n",
       "14                 0     NaN         N               1                   0  \n",
       "15                 0     NaN         N               1                   0  \n",
       "16                 0     NaN         N               1                   0  \n",
       "17                 0     NaN         N               1                   0  \n",
       "18                 0     NaN         N               1                   0  \n",
       "19                 0     NaN         N               1                   0  "
      ]
     },
     "execution_count": 7,
     "metadata": {},
     "output_type": "execute_result"
    }
   ],
   "source": [
    "df.head(20)"
   ]
  },
  {
   "cell_type": "code",
   "execution_count": 8,
   "id": "b32d464d",
   "metadata": {
    "scrolled": true
   },
   "outputs": [
    {
     "data": {
      "text/plain": [
       "C    2653\n",
       "H     557\n",
       "N     458\n",
       "B     431\n",
       "A     294\n",
       "O     138\n",
       "I      31\n",
       "Name: ETHNICITY, dtype: int64"
      ]
     },
     "execution_count": 8,
     "metadata": {},
     "output_type": "execute_result"
    }
   ],
   "source": [
    "df[\"ETHNICITY\"].value_counts()"
   ]
  },
  {
   "cell_type": "code",
   "execution_count": 9,
   "id": "cb0cc638",
   "metadata": {},
   "outputs": [
    {
     "name": "stdout",
     "output_type": "stream",
     "text": [
      "<class 'pandas.core.frame.DataFrame'>\n",
      "RangeIndex: 5160 entries, 0 to 5159\n",
      "Data columns (total 30 columns):\n",
      " #   Column              Non-Null Count  Dtype  \n",
      "---  ------              --------------  -----  \n",
      " 0   avg_income          4397 non-null   float64\n",
      " 1   CAMPUS_VISIT        5160 non-null   int64  \n",
      " 2   CAMPUS_VISIT_2      5160 non-null   object \n",
      " 3   CONTACT_CODE1       5155 non-null   object \n",
      " 4   Contact_Date        5160 non-null   int64  \n",
      " 5   Contact_Month       5160 non-null   object \n",
      " 6   Contact_Year        5160 non-null   int64  \n",
      " 7   distance            4489 non-null   float64\n",
      " 8   Target_Enroll       5160 non-null   int64  \n",
      " 9   ETHNICITY           4562 non-null   object \n",
      " 10  hscrat              5160 non-null   float64\n",
      " 11  ID                  5160 non-null   int64  \n",
      " 12  init_span           5160 non-null   int64  \n",
      " 13  Instate             5160 non-null   object \n",
      " 14  int1rat             5160 non-null   float64\n",
      " 15  int2rat             5160 non-null   float64\n",
      " 16  interest            5160 non-null   int64  \n",
      " 17  IRSCHOOL            4735 non-null   object \n",
      " 18  LEVEL_YEAR          5160 non-null   object \n",
      " 19  mailq               5160 non-null   int64  \n",
      " 20  premiere            5160 non-null   int64  \n",
      " 21  REFERRAL_CNTCTS     5160 non-null   int64  \n",
      " 22  satscore            3273 non-null   float64\n",
      " 23  SELF_INIT_CNTCTS    5160 non-null   int64  \n",
      " 24  sex                 5033 non-null   float64\n",
      " 25  SOLICITED_CNTCTS    5160 non-null   int64  \n",
      " 26  telecq              2105 non-null   float64\n",
      " 27  TERRITORY           5160 non-null   object \n",
      " 28  TOTAL_CONTACTS      5160 non-null   int64  \n",
      " 29  TRAVEL_INIT_CNTCTS  5160 non-null   int64  \n",
      "dtypes: float64(8), int64(14), object(8)\n",
      "memory usage: 1.2+ MB\n"
     ]
    }
   ],
   "source": [
    "df.info()"
   ]
  },
  {
   "cell_type": "code",
   "execution_count": 10,
   "id": "f9cc0c4d",
   "metadata": {},
   "outputs": [
    {
     "data": {
      "text/plain": [
       "<AxesSubplot:xlabel='TERRITORY', ylabel='count'>"
      ]
     },
     "execution_count": 10,
     "metadata": {},
     "output_type": "execute_result"
    },
    {
     "data": {
      "image/png": "[encoded data removed]",
      "text/plain": [
       "<Figure size 432x288 with 1 Axes>"
      ]
     },
     "metadata": {
      "needs_background": "light"
     },
     "output_type": "display_data"
    }
   ],
   "source": [
    "sns.countplot(x=\"TERRITORY\",data=df)"
   ]
  },
  {
   "cell_type": "code",
   "execution_count": 11,
   "id": "948d6341",
   "metadata": {},
   "outputs": [
    {
     "data": {
      "text/plain": [
       "0    2580\n",
       "1    2580\n",
       "Name: Target_Enroll, dtype: int64"
      ]
     },
     "execution_count": 11,
     "metadata": {},
     "output_type": "execute_result"
    }
   ],
   "source": [
    "df[\"Target_Enroll\"].value_counts()"
   ]
  },
  {
   "cell_type": "code",
   "execution_count": 12,
   "id": "77ae4f60",
   "metadata": {},
   "outputs": [
    {
     "data": {
      "text/plain": [
       "5    3398\n",
       "1     778\n",
       "2     628\n",
       "3     356\n",
       "Name: mailq, dtype: int64"
      ]
     },
     "execution_count": 12,
     "metadata": {},
     "output_type": "execute_result"
    }
   ],
   "source": [
    "df[\"mailq\"].value_counts()"
   ]
  },
  {
   "cell_type": "code",
   "execution_count": 13,
   "id": "2125af40",
   "metadata": {},
   "outputs": [
    {
     "name": "stderr",
     "output_type": "stream",
     "text": [
      "C:\\Users\\Varun\\AppData\\Local\\Programs\\Python\\Python310\\lib\\site-packages\\seaborn\\_decorators.py:36: FutureWarning: Pass the following variable as a keyword arg: x. From version 0.12, the only valid positional argument will be `data`, and passing other arguments without an explicit keyword will result in an error or misinterpretation.\n",
      "  warnings.warn(\n"
     ]
    },
    {
     "data": {
      "text/plain": [
       "<AxesSubplot:xlabel='telecq', ylabel='count'>"
      ]
     },
     "execution_count": 13,
     "metadata": {},
     "output_type": "execute_result"
    },
    {
     "data": {
      "image/png": "[encoded data removed]",
      "text/plain": [
       "<Figure size 432x288 with 1 Axes>"
      ]
     },
     "metadata": {
      "needs_background": "light"
     },
     "output_type": "display_data"
    }
   ],
   "source": [
    "sns.countplot(df[\"telecq\"],hue=df[\"Target_Enroll\"])"
   ]
  },
  {
   "cell_type": "code",
   "execution_count": 14,
   "id": "0e2c9ff0",
   "metadata": {},
   "outputs": [
    {
     "name": "stderr",
     "output_type": "stream",
     "text": [
      "C:\\Users\\Varun\\AppData\\Local\\Programs\\Python\\Python310\\lib\\site-packages\\seaborn\\distributions.py:2619: FutureWarning: `distplot` is a deprecated function and will be removed in a future version. Please adapt your code to use either `displot` (a figure-level function with similar flexibility) or `histplot` (an axes-level function for histograms).\n",
      "  warnings.warn(msg, FutureWarning)\n"
     ]
    },
    {
     "data": {
      "text/plain": [
       "<AxesSubplot:xlabel='hscrat', ylabel='Density'>"
      ]
     },
     "execution_count": 14,
     "metadata": {},
     "output_type": "execute_result"
    },
    {
     "data": {
      "image/png": "[encoded data removed]",
      "text/plain": [
       "<Figure size 432x288 with 1 Axes>"
      ]
     },
     "metadata": {
      "needs_background": "light"
     },
     "output_type": "display_data"
    }
   ],
   "source": [
    "sns.distplot(df[\"hscrat\"])"
   ]
  },
  {
   "cell_type": "code",
   "execution_count": 15,
   "id": "635a7cfa",
   "metadata": {},
   "outputs": [
    {
     "data": {
      "text/plain": [
       "0    4418\n",
       "1     709\n",
       "2      33\n",
       "Name: CAMPUS_VISIT, dtype: int64"
      ]
     },
     "execution_count": 15,
     "metadata": {},
     "output_type": "execute_result"
    }
   ],
   "source": [
    "df[\"CAMPUS_VISIT\"].value_counts()"
   ]
  },
  {
   "cell_type": "code",
   "execution_count": 16,
   "id": "1f7f5629",
   "metadata": {},
   "outputs": [
    {
     "data": {
      "text/plain": [
       "0     4418\n",
       "1+     742\n",
       "Name: CAMPUS_VISIT_2, dtype: int64"
      ]
     },
     "execution_count": 16,
     "metadata": {},
     "output_type": "execute_result"
    }
   ],
   "source": [
    "df[\"CAMPUS_VISIT_2\"].value_counts()"
   ]
  },
  {
   "cell_type": "code",
   "execution_count": 17,
   "id": "b1c37750",
   "metadata": {},
   "outputs": [
    {
     "data": {
      "text/plain": [
       "FR04    5160\n",
       "Name: LEVEL_YEAR, dtype: int64"
      ]
     },
     "execution_count": 17,
     "metadata": {},
     "output_type": "execute_result"
    }
   ],
   "source": [
    "df['LEVEL_YEAR'].value_counts()"
   ]
  },
  {
   "cell_type": "code",
   "execution_count": 18,
   "id": "a145ff1c",
   "metadata": {},
   "outputs": [],
   "source": [
    "df.drop('LEVEL_YEAR',axis=1,inplace=True)"
   ]
  },
  {
   "cell_type": "code",
   "execution_count": 19,
   "id": "6321367e",
   "metadata": {},
   "outputs": [
    {
     "name": "stdout",
     "output_type": "stream",
     "text": [
      "<class 'pandas.core.frame.DataFrame'>\n",
      "RangeIndex: 5160 entries, 0 to 5159\n",
      "Data columns (total 29 columns):\n",
      " #   Column              Non-Null Count  Dtype  \n",
      "---  ------              --------------  -----  \n",
      " 0   avg_income          4397 non-null   float64\n",
      " 1   CAMPUS_VISIT        5160 non-null   int64  \n",
      " 2   CAMPUS_VISIT_2      5160 non-null   object \n",
      " 3   CONTACT_CODE1       5155 non-null   object \n",
      " 4   Contact_Date        5160 non-null   int64  \n",
      " 5   Contact_Month       5160 non-null   object \n",
      " 6   Contact_Year        5160 non-null   int64  \n",
      " 7   distance            4489 non-null   float64\n",
      " 8   Target_Enroll       5160 non-null   int64  \n",
      " 9   ETHNICITY           4562 non-null   object \n",
      " 10  hscrat              5160 non-null   float64\n",
      " 11  ID                  5160 non-null   int64  \n",
      " 12  init_span           5160 non-null   int64  \n",
      " 13  Instate             5160 non-null   object \n",
      " 14  int1rat             5160 non-null   float64\n",
      " 15  int2rat             5160 non-null   float64\n",
      " 16  interest            5160 non-null   int64  \n",
      " 17  IRSCHOOL            4735 non-null   object \n",
      " 18  mailq               5160 non-null   int64  \n",
      " 19  premiere            5160 non-null   int64  \n",
      " 20  REFERRAL_CNTCTS     5160 non-null   int64  \n",
      " 21  satscore            3273 non-null   float64\n",
      " 22  SELF_INIT_CNTCTS    5160 non-null   int64  \n",
      " 23  sex                 5033 non-null   float64\n",
      " 24  SOLICITED_CNTCTS    5160 non-null   int64  \n",
      " 25  telecq              2105 non-null   float64\n",
      " 26  TERRITORY           5160 non-null   object \n",
      " 27  TOTAL_CONTACTS      5160 non-null   int64  \n",
      " 28  TRAVEL_INIT_CNTCTS  5160 non-null   int64  \n",
      "dtypes: float64(8), int64(14), object(7)\n",
      "memory usage: 1.1+ MB\n"
     ]
    }
   ],
   "source": [
    "df.info()"
   ]
  },
  {
   "cell_type": "code",
   "execution_count": 20,
   "id": "32f6e552",
   "metadata": {},
   "outputs": [],
   "source": [
    "df.drop('ID',axis=1,inplace=True)"
   ]
  },
  {
   "cell_type": "code",
   "execution_count": 21,
   "id": "22dadba7",
   "metadata": {},
   "outputs": [
    {
     "data": {
      "text/plain": [
       "447290    0.009081\n",
       "445573    0.006969\n",
       "440324    0.006969\n",
       "443509    0.006969\n",
       "441471    0.006758\n",
       "            ...   \n",
       "371109    0.000211\n",
       "370112    0.000211\n",
       "372069    0.000211\n",
       "372070    0.000211\n",
       "442235    0.000211\n",
       "Name: IRSCHOOL, Length: 1767, dtype: float64"
      ]
     },
     "execution_count": 21,
     "metadata": {},
     "output_type": "execute_result"
    }
   ],
   "source": [
    "df['IRSCHOOL'].value_counts(normalize=True)"
   ]
  },
  {
   "cell_type": "code",
   "execution_count": 22,
   "id": "400cad7b",
   "metadata": {},
   "outputs": [],
   "source": [
    "df.drop('IRSCHOOL',axis=1,inplace=True)"
   ]
  },
  {
   "cell_type": "code",
   "execution_count": 23,
   "id": "a6582495",
   "metadata": {},
   "outputs": [],
   "source": [
    "df.drop('CAMPUS_VISIT_2',axis=1,inplace=True)"
   ]
  },
  {
   "cell_type": "code",
   "execution_count": 25,
   "id": "8bc40895",
   "metadata": {},
   "outputs": [],
   "source": [
    "df_obj=df.select_dtypes(include=['object']).columns.tolist()"
   ]
  },
  {
   "cell_type": "code",
   "execution_count": 26,
   "id": "57928dfa",
   "metadata": {},
   "outputs": [
    {
     "data": {
      "text/plain": [
       "['CONTACT_CODE1', 'Contact_Month', 'ETHNICITY', 'Instate', 'TERRITORY']"
      ]
     },
     "execution_count": 26,
     "metadata": {},
     "output_type": "execute_result"
    }
   ],
   "source": [
    "df_obj"
   ]
  },
  {
   "cell_type": "code",
   "execution_count": 32,
   "id": "84752b3a",
   "metadata": {},
   "outputs": [
    {
     "data": {
      "text/plain": [
       "<AxesSubplot:xlabel='TERRITORY', ylabel='count'>"
      ]
     },
     "execution_count": 32,
     "metadata": {},
     "output_type": "execute_result"
    },
    {
     "data": {
      "image/png": "[encoded data removed]",
      "text/plain": [
       "<Figure size 432x288 with 1 Axes>"
      ]
     },
     "metadata": {
      "needs_background": "light"
     },
     "output_type": "display_data"
    }
   ],
   "source": [
    "sns.countplot(df['TERRITORY'],hue=df[\"Target_Enroll\"])"
   ]
  },
  {
   "cell_type": "code",
   "execution_count": 33,
   "id": "aeac2686",
   "metadata": {},
   "outputs": [],
   "source": [
    "df.drop_duplicates(inplace=True)"
   ]
  },
  {
   "cell_type": "code",
   "execution_count": 34,
   "id": "595ffde5",
   "metadata": {},
   "outputs": [
    {
     "data": {
      "text/plain": [
       "35568.0"
      ]
     },
     "execution_count": 34,
     "metadata": {},
     "output_type": "execute_result"
    }
   ],
   "source": [
    "df[\"avg_income\"].dropna().quantile(.25)"
   ]
  },
  {
   "cell_type": "code",
   "execution_count": 35,
   "id": "f142c351",
   "metadata": {},
   "outputs": [
    {
     "data": {
      "text/plain": [
       "35568.0"
      ]
     },
     "execution_count": 35,
     "metadata": {},
     "output_type": "execute_result"
    }
   ],
   "source": [
    "df[\"avg_income\"].quantile(.25)"
   ]
  },
  {
   "cell_type": "code",
   "execution_count": 41,
   "id": "e721ec14",
   "metadata": {},
   "outputs": [],
   "source": [
    "df_num=df.select_dtypes(include=['int64','float64']).columns.tolist()"
   ]
  },
  {
   "cell_type": "code",
   "execution_count": 42,
   "id": "f8bd33cf",
   "metadata": {},
   "outputs": [
    {
     "data": {
      "text/plain": [
       "['avg_income',\n",
       " 'CAMPUS_VISIT',\n",
       " 'Contact_Date',\n",
       " 'distance',\n",
       " 'Target_Enroll',\n",
       " 'hscrat',\n",
       " 'init_span',\n",
       " 'int1rat',\n",
       " 'int2rat',\n",
       " 'interest',\n",
       " 'mailq',\n",
       " 'premiere',\n",
       " 'REFERRAL_CNTCTS',\n",
       " 'satscore',\n",
       " 'SELF_INIT_CNTCTS',\n",
       " 'sex',\n",
       " 'SOLICITED_CNTCTS',\n",
       " 'telecq',\n",
       " 'TOTAL_CONTACTS',\n",
       " 'TRAVEL_INIT_CNTCTS']"
      ]
     },
     "execution_count": 42,
     "metadata": {},
     "output_type": "execute_result"
    }
   ],
   "source": [
    "df_num"
   ]
  },
  {
   "cell_type": "code",
   "execution_count": 38,
   "id": "098588ab",
   "metadata": {},
   "outputs": [
    {
     "data": {
      "text/plain": [
       "2015    2966\n",
       "2014    1596\n",
       "2016     268\n",
       "2013     233\n",
       "2012      59\n",
       "2011       8\n",
       "2010       1\n",
       "Name: Contact_Year, dtype: int64"
      ]
     },
     "execution_count": 38,
     "metadata": {},
     "output_type": "execute_result"
    }
   ],
   "source": [
    "df['Contact_Year'].value_counts()\n"
   ]
  },
  {
   "cell_type": "code",
   "execution_count": 39,
   "id": "c7253345",
   "metadata": {},
   "outputs": [
    {
     "name": "stderr",
     "output_type": "stream",
     "text": [
      "C:\\Users\\Varun\\AppData\\Local\\Programs\\Python\\Python310\\lib\\site-packages\\seaborn\\_decorators.py:36: FutureWarning: Pass the following variable as a keyword arg: x. From version 0.12, the only valid positional argument will be `data`, and passing other arguments without an explicit keyword will result in an error or misinterpretation.\n",
      "  warnings.warn(\n"
     ]
    },
    {
     "data": {
      "text/plain": [
       "<AxesSubplot:xlabel='Contact_Year', ylabel='count'>"
      ]
     },
     "execution_count": 39,
     "metadata": {},
     "output_type": "execute_result"
    },
    {
     "data": {
      "image/png": "[encoded data removed]",
      "text/plain": [
       "<Figure size 432x288 with 1 Axes>"
      ]
     },
     "metadata": {
      "needs_background": "light"
     },
     "output_type": "display_data"
    }
   ],
   "source": [
    "sns.countplot(df['Contact_Year'],hue=df[\"Target_Enroll\"])"
   ]
  },
  {
   "cell_type": "code",
   "execution_count": 40,
   "id": "05a98fa3",
   "metadata": {},
   "outputs": [],
   "source": [
    "df.drop('Contact_Year',axis=1,inplace=True)"
   ]
  },
  {
   "cell_type": "code",
   "execution_count": 43,
   "id": "eeb73ea5",
   "metadata": {},
   "outputs": [
    {
     "name": "stderr",
     "output_type": "stream",
     "text": [
      "C:\\Users\\Varun\\AppData\\Local\\Programs\\Python\\Python310\\lib\\site-packages\\seaborn\\_decorators.py:36: FutureWarning: Pass the following variable as a keyword arg: x. From version 0.12, the only valid positional argument will be `data`, and passing other arguments without an explicit keyword will result in an error or misinterpretation.\n",
      "  warnings.warn(\n"
     ]
    },
    {
     "data": {
      "text/plain": [
       "<AxesSubplot:xlabel='Contact_Month', ylabel='count'>"
      ]
     },
     "execution_count": 43,
     "metadata": {},
     "output_type": "execute_result"
    },
    {
     "data": {
      "image/png": "[encoded data removed]",
      "text/plain": [
       "<Figure size 432x288 with 1 Axes>"
      ]
     },
     "metadata": {
      "needs_background": "light"
     },
     "output_type": "display_data"
    }
   ],
   "source": [
    "sns.countplot(df['Contact_Month'],hue=df[\"Target_Enroll\"])"
   ]
  },
  {
   "cell_type": "code",
   "execution_count": 44,
   "id": "cc8ddb5c",
   "metadata": {},
   "outputs": [
    {
     "data": {
      "text/plain": [
       "2"
      ]
     },
     "execution_count": 44,
     "metadata": {},
     "output_type": "execute_result"
    }
   ],
   "source": [
    "df['Target_Enroll'].nunique()"
   ]
  },
  {
   "cell_type": "code",
   "execution_count": 47,
   "id": "41709f4f",
   "metadata": {},
   "outputs": [],
   "source": [
    "df_u2=[]\n",
    "for col in df_num:\n",
    "    if df[col].nunique()==2:\n",
    "        df_u2.append(col)\n"
   ]
  },
  {
   "cell_type": "code",
   "execution_count": 48,
   "id": "1766cafa",
   "metadata": {},
   "outputs": [
    {
     "data": {
      "text/plain": [
       "['Target_Enroll', 'premiere', 'sex']"
      ]
     },
     "execution_count": 48,
     "metadata": {},
     "output_type": "execute_result"
    }
   ],
   "source": [
    "df_u2"
   ]
  },
  {
   "cell_type": "code",
   "execution_count": 51,
   "id": "719799eb",
   "metadata": {},
   "outputs": [
    {
     "data": {
      "text/plain": [
       "<AxesSubplot:xlabel='ETHNICITY', ylabel='count'>"
      ]
     },
     "execution_count": 51,
     "metadata": {},
     "output_type": "execute_result"
    },
    {
     "data": {
      "image/png": "[encoded data removed]",
      "text/plain": [
       "<Figure size 432x288 with 1 Axes>"
      ]
     },
     "metadata": {
      "needs_background": "light"
     },
     "output_type": "display_data"
    }
   ],
   "source": [
    "sns.countplot(df['ETHNICITY'],hue=df['Target_Enroll'])"
   ]
  },
  {
   "cell_type": "code",
   "execution_count": 56,
   "id": "7bc1e456",
   "metadata": {},
   "outputs": [
    {
     "data": {
      "text/plain": [
       "C    58.181017\n",
       "H    12.243999\n",
       "N     9.909712\n",
       "B     9.491301\n",
       "A     6.452323\n",
       "O     3.038978\n",
       "I     0.682669\n",
       "Name: ETHNICITY, dtype: float64"
      ]
     },
     "execution_count": 56,
     "metadata": {},
     "output_type": "execute_result"
    }
   ],
   "source": [
    "df['ETHNICITY'].value_counts(normalize=True)*100"
   ]
  },
  {
   "cell_type": "code",
   "execution_count": 57,
   "id": "49e2e6d8",
   "metadata": {},
   "outputs": [
    {
     "name": "stderr",
     "output_type": "stream",
     "text": [
      "C:\\Users\\Varun\\AppData\\Local\\Programs\\Python\\Python310\\lib\\site-packages\\seaborn\\_decorators.py:36: FutureWarning: Pass the following variable as a keyword arg: x. From version 0.12, the only valid positional argument will be `data`, and passing other arguments without an explicit keyword will result in an error or misinterpretation.\n",
      "  warnings.warn(\n"
     ]
    },
    {
     "data": {
      "text/plain": [
       "<AxesSubplot:xlabel='ETHNICITY', ylabel='count'>"
      ]
     },
     "execution_count": 57,
     "metadata": {},
     "output_type": "execute_result"
    },
    {
     "data": {
      "image/png": "[encoded data removed]",
      "text/plain": [
       "<Figure size 432x288 with 1 Axes>"
      ]
     },
     "metadata": {
      "needs_background": "light"
     },
     "output_type": "display_data"
    }
   ],
   "source": [
    "sns.countplot(df['ETHNICITY'])"
   ]
  },
  {
   "cell_type": "code",
   "execution_count": null,
   "id": "34a35702",
   "metadata": {},
   "outputs": [],
   "source": []
  }
 ],
 "metadata": {
  "kernelspec": {
   "display_name": "Python 3 (ipykernel)",
   "language": "python",
   "name": "python3"
  },
  "language_info": {
   "codemirror_mode": {
    "name": "ipython",
    "version": 3
   },
   "file_extension": ".py",
   "mimetype": "text/x-python",
   "name": "python",
   "nbconvert_exporter": "python",
   "pygments_lexer": "ipython3",
   "version": "3.10.5"
  }
 },
 "nbformat": 4,
 "nbformat_minor": 5
}
